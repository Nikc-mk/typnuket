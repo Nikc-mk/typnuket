{
 "cells": [
  {
   "cell_type": "code",
   "execution_count": 1,
   "id": "6935628b-5467-4701-a434-86327fb5b941",
   "metadata": {
    "tags": []
   },
   "outputs": [],
   "source": [
    "import pandas as pd\n",
    "import numpy as np\n",
    "import os\n",
    "import warnings\n",
    "\n",
    "warnings.filterwarnings(\"ignore\")\n",
    "from sklearn.linear_model import LogisticRegression\n",
    "from sklearn.pipeline import Pipeline\n",
    "from sklearn.pipeline import make_pipeline\n",
    "from sklearn.preprocessing import StandardScaler, Normalizer\n",
    "from sklearn.model_selection import train_test_split\n",
    "from sklearn import preprocessing\n",
    "from sklearn.model_selection import learning_curve\n",
    "from sklearn.model_selection import validation_curve\n",
    "from sklearn.metrics import classification_report\n",
    "from catboost import CatBoostClassifier, Pool"
   ]
  },
  {
   "cell_type": "code",
   "execution_count": 2,
   "id": "4c06552e-6fa5-4c1a-b396-8ae87fecc06e",
   "metadata": {
    "tags": []
   },
   "outputs": [],
   "source": [
    "data = pd.read_csv(\n",
    "    \"../data/external/public_train_features_5.csv\", index_col=\"row_id\"\n",
    ")"
   ]
  },
  {
   "cell_type": "code",
   "execution_count": 3,
   "id": "712f388b-ffba-439d-8708-41d92ec8b270",
   "metadata": {
    "tags": []
   },
   "outputs": [],
   "source": [
    "data.drop(\n",
    "    columns=[\n",
    "        \"timestamp\",\n",
    "        \"timestamp_lag_1\",\n",
    "        \"timestamp_lag_2\",\n",
    "        \"timestamp_lag_3\",\n",
    "        \"timestamp_lag_4\",\n",
    "        \"timestamp_lag_5\",\n",
    "    ],\n",
    "    inplace=True,\n",
    ")\n",
    "data.fillna(value=0, inplace=True)"
   ]
  },
  {
   "cell_type": "code",
   "execution_count": 4,
   "id": "06b79646-0ee7-43b9-8abf-4f4e1fb875c9",
   "metadata": {
    "tags": []
   },
   "outputs": [],
   "source": [
    "lst_to_norm = [\n",
    "    \"diff_time_gate_lag_1\",\n",
    "    \"diff_time_gate_lag_2\",\n",
    "    \"diff_time_gate_lag_3\",\n",
    "    \"diff_time_gate_lag_4\",\n",
    "    \"diff_time_gate_lag_5\",\n",
    "    \"minute\",\n",
    "    \"second\",\n",
    "    \"day\",\n",
    "    \"time_to_sec\",\n",
    "    \"dayweek\",\n",
    "    \"minute_lag_1\",\n",
    "    \"minute_lag_2\",\n",
    "    \"minute_lag_3\",\n",
    "    \"minute_lag_4\",\n",
    "    \"second_lag_1\",\n",
    "    \"second_lag_2\",\n",
    "    \"second_lag_3\",\n",
    "    \"second_lag_4\",\n",
    "    \"day_lag_1\",\n",
    "    \"day_lag_2\",\n",
    "    \"day_lag_3\",\n",
    "    \"day_lag_4\",\n",
    "    \"time_to_sec_lag_1\",\n",
    "    \"time_to_sec_lag_2\",\n",
    "    \"time_to_sec_lag_3\",\n",
    "    \"time_to_sec_lag_4\",\n",
    "    \"dayweek_lag_1\",\n",
    "    \"dayweek_lag_2\",\n",
    "    \"dayweek_lag_3\",\n",
    "    \"dayweek_lag_4\",\n",
    "    \"diff_time_to_sec_2\",\n",
    "    \"diff_time_to_sec_3\",\n",
    "    \"diff_time_to_sec_4\",\n",
    "]"
   ]
  },
  {
   "cell_type": "code",
   "execution_count": 5,
   "id": "1fb0397f-a371-42bc-a449-69c2623f88b2",
   "metadata": {
    "tags": []
   },
   "outputs": [],
   "source": [
    "target = pd.read_csv(\"../data/interim/target.csv\", index_col=\"row_id\")"
   ]
  },
  {
   "cell_type": "code",
   "execution_count": 6,
   "id": "ad29f1a4-5ea3-4443-9133-9cddec8cdc86",
   "metadata": {
    "tags": []
   },
   "outputs": [],
   "source": [
    "data_train = data.join(target, on=None, how=\"inner\").iloc[5:]"
   ]
  },
  {
   "cell_type": "code",
   "execution_count": 7,
   "id": "dc837363-bf87-4f49-a9c6-53ecaf3aeb3a",
   "metadata": {
    "tags": []
   },
   "outputs": [],
   "source": [
    "data_test = data.loc[37518:]"
   ]
  },
  {
   "cell_type": "code",
   "execution_count": 8,
   "id": "198b3829-cf4b-4352-8b49-b60bc1ef287a",
   "metadata": {
    "tags": []
   },
   "outputs": [],
   "source": [
    "# X_train, X_test, y_train, y_test = train_test_split(\n",
    "#     data_train.drop(columns=[\"user_id\"]),\n",
    "#     data_train[\"user_id\"],\n",
    "#     random_state=15,\n",
    "#     test_size=0.25,\n",
    "# )"
   ]
  },
  {
   "cell_type": "code",
   "execution_count": 9,
   "id": "6467cd48-2859-45f0-acee-ae6308a5ffb0",
   "metadata": {
    "tags": []
   },
   "outputs": [],
   "source": [
    "# pipe = make_pipeline(\n",
    "#     StandardScaler(), LogisticRegression(n_jobs=-3, solver=\"saga\", max_iter=200, multi_class=\"ovr\", C=0.01)\n",
    "# )\n",
    "# pipe.fit(X_train, y_train)\n",
    "\n",
    "# print(pipe.score(X_test, y_test) * 100)\n",
    "# print(classification_report(y_test, pipe.predict(X_test)))\n",
    "# # 17.304616696876"
   ]
  },
  {
   "cell_type": "code",
   "execution_count": 10,
   "id": "018c39ea-da26-4933-8bac-b5995b8898a3",
   "metadata": {
    "tags": []
   },
   "outputs": [
    {
     "name": "stdout",
     "output_type": "stream",
     "text": [
      "0:\tlearn: 0.0447301\ttotal: 1.04s\tremaining: 1h 26m 58s\n",
      "200:\tlearn: 0.1428591\ttotal: 3m 16s\tremaining: 1h 18m 2s\n",
      "400:\tlearn: 0.1797048\ttotal: 6m 30s\tremaining: 1h 14m 41s\n",
      "600:\tlearn: 0.2078786\ttotal: 9m 41s\tremaining: 1h 10m 57s\n",
      "800:\tlearn: 0.2320587\ttotal: 12m 52s\tremaining: 1h 7m 31s\n",
      "1000:\tlearn: 0.2563073\ttotal: 16m 5s\tremaining: 1h 4m 16s\n",
      "1200:\tlearn: 0.2799818\ttotal: 19m 20s\tremaining: 1h 1m 10s\n",
      "1400:\tlearn: 0.3028803\ttotal: 22m 32s\tremaining: 57m 55s\n",
      "1600:\tlearn: 0.3243419\ttotal: 25m 44s\tremaining: 54m 38s\n",
      "1800:\tlearn: 0.3460378\ttotal: 28m 56s\tremaining: 51m 24s\n",
      "2000:\tlearn: 0.3658754\ttotal: 32m 10s\tremaining: 48m 13s\n",
      "2200:\tlearn: 0.3852815\ttotal: 35m 23s\tremaining: 45m 1s\n",
      "2400:\tlearn: 0.4034741\ttotal: 38m 37s\tremaining: 41m 48s\n",
      "2600:\tlearn: 0.4204174\ttotal: 41m 52s\tremaining: 38m 37s\n",
      "2800:\tlearn: 0.4372748\ttotal: 45m 5s\tremaining: 35m 23s\n",
      "3000:\tlearn: 0.4535166\ttotal: 48m 17s\tremaining: 32m 10s\n",
      "3200:\tlearn: 0.4689851\ttotal: 51m 32s\tremaining: 28m 57s\n",
      "3400:\tlearn: 0.4836153\ttotal: 54m 44s\tremaining: 25m 44s\n",
      "3600:\tlearn: 0.4971710\ttotal: 57m 56s\tremaining: 22m 30s\n",
      "3800:\tlearn: 0.5109114\ttotal: 1h 1m 8s\tremaining: 19m 17s\n",
      "4000:\tlearn: 0.5228737\ttotal: 1h 4m 23s\tremaining: 16m 4s\n",
      "4200:\tlearn: 0.5349674\ttotal: 1h 7m 37s\tremaining: 12m 51s\n",
      "4400:\tlearn: 0.5463975\ttotal: 1h 10m 49s\tremaining: 9m 38s\n",
      "4600:\tlearn: 0.5584218\ttotal: 1h 14m 1s\tremaining: 6m 25s\n",
      "4800:\tlearn: 0.5687637\ttotal: 1h 17m 13s\tremaining: 3m 12s\n",
      "4999:\tlearn: 0.5782167\ttotal: 1h 20m 25s\tremaining: 0us\n"
     ]
    },
    {
     "data": {
      "text/plain": [
       "<catboost.core.CatBoostClassifier at 0x7f4bac632040>"
      ]
     },
     "execution_count": 10,
     "metadata": {},
     "output_type": "execute_result"
    }
   ],
   "source": [
    "clf = CatBoostClassifier(\n",
    "    thread_count=4,\n",
    "    iterations=5000,\n",
    "    early_stopping_rounds=100,\n",
    "    eval_metric=\"TotalF1\",\n",
    "    # use_best_model=True,\n",
    "    learning_rate=0.01,\n",
    ")\n",
    "clf.fit(\n",
    "    data_train.drop(columns=[\"user_id\"]),\n",
    "    data_train[\"user_id\"],\n",
    "    verbose=200\n",
    "    # , eval_set=(X_test, y_test)\n",
    ")"
   ]
  },
  {
   "cell_type": "code",
   "execution_count": 14,
   "id": "2fe943d4-48bd-4d29-b188-fb2bf735d8e5",
   "metadata": {
    "tags": []
   },
   "outputs": [
    {
     "data": {
      "text/plain": [
       "8419"
      ]
     },
     "execution_count": 14,
     "metadata": {},
     "output_type": "execute_result"
    }
   ],
   "source": [
    "clf.best_iteration_"
   ]
  },
  {
   "cell_type": "code",
   "execution_count": 15,
   "id": "30561f3f-c908-4aa1-ac49-ba17110e7730",
   "metadata": {
    "tags": []
   },
   "outputs": [
    {
     "name": "stdout",
     "output_type": "stream",
     "text": [
      "              precision    recall  f1-score   support\n",
      "\n",
      "           0       0.33      0.23      0.27       315\n",
      "           1       0.40      0.39      0.40       301\n",
      "           2       1.00      0.25      0.40        12\n",
      "           3       0.40      0.53      0.45       236\n",
      "           4       0.00      0.00      0.00         1\n",
      "           5       0.50      0.33      0.40         3\n",
      "           6       0.34      0.25      0.29       477\n",
      "           7       0.60      0.50      0.55        12\n",
      "           8       1.00      0.75      0.86         8\n",
      "           9       0.27      0.31      0.29       242\n",
      "          10       1.00      0.40      0.57         5\n",
      "          11       0.26      0.33      0.29       321\n",
      "          12       0.33      0.55      0.41       550\n",
      "          14       0.66      0.70      0.68       187\n",
      "          15       0.38      0.47      0.42       436\n",
      "          17       0.43      0.52      0.47       155\n",
      "          18       0.52      0.39      0.44       391\n",
      "          19       0.36      0.47      0.41       449\n",
      "          20       0.33      0.06      0.10        35\n",
      "          22       0.75      0.09      0.17        32\n",
      "          23       0.48      0.14      0.22        70\n",
      "          24       0.37      0.31      0.34        89\n",
      "          25       0.64      0.14      0.23        65\n",
      "          26       0.54      0.38      0.45        81\n",
      "          27       0.77      0.76      0.77       156\n",
      "          28       0.56      0.69      0.62        13\n",
      "          29       0.34      0.20      0.25       234\n",
      "          30       1.00      0.50      0.67         2\n",
      "          31       0.29      0.07      0.12        54\n",
      "          32       0.31      0.42      0.35       272\n",
      "          33       0.43      0.49      0.46       342\n",
      "          34       0.50      0.34      0.40        62\n",
      "          35       0.43      0.23      0.30       155\n",
      "          36       0.00      0.00      0.00         8\n",
      "          37       0.35      0.33      0.34       578\n",
      "          38       0.00      0.00      0.00         2\n",
      "          39       0.38      0.33      0.35       291\n",
      "          40       0.36      0.14      0.20        64\n",
      "          41       0.25      0.06      0.10        32\n",
      "          42       0.55      0.43      0.48        88\n",
      "          43       0.25      0.12      0.16        34\n",
      "          44       0.50      1.00      0.67         1\n",
      "          45       0.50      0.11      0.18        18\n",
      "          46       0.53      0.20      0.29       116\n",
      "          47       0.45      0.28      0.35       338\n",
      "          48       0.38      0.22      0.28       203\n",
      "          49       0.49      0.48      0.49       310\n",
      "          50       0.36      0.25      0.29       235\n",
      "          51       0.00      0.00      0.00         1\n",
      "          52       0.00      0.00      0.00         3\n",
      "          53       0.27      0.25      0.26       301\n",
      "          54       0.29      0.37      0.33       256\n",
      "          55       0.29      0.48      0.36       587\n",
      "          56       0.56      0.15      0.24        33\n",
      "          57       0.32      0.14      0.19       117\n",
      "\n",
      "    accuracy                           0.37      9379\n",
      "   macro avg       0.43      0.32      0.34      9379\n",
      "weighted avg       0.39      0.37      0.37      9379\n",
      "\n"
     ]
    }
   ],
   "source": [
    "print(classification_report(y_test, clf.predict(X_test)))\n",
    "#     accuracy                           0.34      9379\n",
    "#    macro avg       0.41      0.29      0.31      9379\n",
    "# weighted avg       0.36      0.34      0.33      9379"
   ]
  },
  {
   "cell_type": "code",
   "execution_count": 13,
   "id": "63cb25ee-ebd7-45dc-baa1-50a657069a66",
   "metadata": {},
   "outputs": [
    {
     "ename": "NameError",
     "evalue": "name 'stop' is not defined",
     "output_type": "error",
     "traceback": [
      "\u001b[0;31m---------------------------------------------------------------------------\u001b[0m",
      "\u001b[0;31mNameError\u001b[0m                                 Traceback (most recent call last)",
      "Cell \u001b[0;32mIn[13], line 1\u001b[0m\n\u001b[0;32m----> 1\u001b[0m \u001b[43mstop\u001b[49m\n",
      "\u001b[0;31mNameError\u001b[0m: name 'stop' is not defined"
     ]
    }
   ],
   "source": [
    "stop"
   ]
  },
  {
   "cell_type": "code",
   "execution_count": 11,
   "id": "4a5bbe25-f647-4c23-a66d-c831da210d35",
   "metadata": {
    "tags": []
   },
   "outputs": [
    {
     "data": {
      "text/plain": [
       "row_id\n",
       "37518    18\n",
       "37519    18\n",
       "37520    15\n",
       "37521    15\n",
       "37522    15\n",
       "         ..\n",
       "44638    37\n",
       "44639    37\n",
       "44640    49\n",
       "44641    49\n",
       "44642    49\n",
       "Name: target, Length: 7125, dtype: int64"
      ]
     },
     "execution_count": 11,
     "metadata": {},
     "output_type": "execute_result"
    }
   ],
   "source": [
    "data_test[\"target\"] = clf.predict(data_test)\n",
    "data_test[\"target\"]"
   ]
  },
  {
   "cell_type": "code",
   "execution_count": 12,
   "id": "6d55302a-e6f4-4b70-b492-5f7e22802c28",
   "metadata": {
    "tags": []
   },
   "outputs": [],
   "source": [
    "data_out = data_test[\"target\"]\n",
    "data_out.to_csv(\"../data/processed/sample_submission_2.sv\")"
   ]
  },
  {
   "cell_type": "code",
   "execution_count": null,
   "id": "eb4d7303-e4f7-427d-9826-3d5d29601e4d",
   "metadata": {},
   "outputs": [],
   "source": []
  }
 ],
 "metadata": {
  "kernelspec": {
   "display_name": "Python 3 (ipykernel)",
   "language": "python",
   "name": "python3"
  },
  "language_info": {
   "codemirror_mode": {
    "name": "ipython",
    "version": 3
   },
   "file_extension": ".py",
   "mimetype": "text/x-python",
   "name": "python",
   "nbconvert_exporter": "python",
   "pygments_lexer": "ipython3",
   "version": "3.9.16"
  }
 },
 "nbformat": 4,
 "nbformat_minor": 5
}
