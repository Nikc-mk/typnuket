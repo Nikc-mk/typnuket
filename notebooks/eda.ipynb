{
 "cells": [
  {
   "cell_type": "markdown",
   "id": "454df2e0-5816-4b21-9448-ebb15e679c9a",
   "metadata": {},
   "source": [
    "## Импорты"
   ]
  },
  {
   "cell_type": "code",
   "execution_count": 73,
   "id": "bd435489-86ea-4cbc-8634-19082e4450e2",
   "metadata": {
    "tags": []
   },
   "outputs": [],
   "source": [
    "import pandas as pd\n",
    "import numpy as np\n",
    "import os\n",
    "import warnings\n",
    "from math import sin\n",
    "\n",
    "warnings.filterwarnings(\"ignore\")\n",
    "import seaborn as sns"
   ]
  },
  {
   "cell_type": "markdown",
   "id": "ede1fba5-90ce-40ba-ba45-d275f6e903c2",
   "metadata": {},
   "source": [
    "## Загрузка данных"
   ]
  },
  {
   "cell_type": "code",
   "execution_count": 74,
   "id": "9196dfcd-067c-4c92-9a55-532af99929ae",
   "metadata": {
    "tags": []
   },
   "outputs": [],
   "source": [
    "data = pd.read_csv(\"../data/raw/train.csv\", index_col=\"row_id\")\n",
    "data[\"timestamp\"] = data[\"timestamp\"].astype(\"datetime64[ns]\")\n",
    "data_test = pd.read_csv(\"../data/raw/test.csv\", index_col=\"row_id\")\n",
    "data_test[\"timestamp\"] = data_test[\"timestamp\"].astype(\"datetime64[ns]\")"
   ]
  },
  {
   "cell_type": "code",
   "execution_count": 75,
   "id": "d3f4b0ea-0415-4825-87b2-6b988d2fa4ba",
   "metadata": {
    "tags": []
   },
   "outputs": [
    {
     "data": {
      "text/plain": [
       "[-1, 0, 1, 3, 4, 5, 6, 7, 8, 9, 10, 11, 12, 13, 14, 15, 16]"
      ]
     },
     "execution_count": 75,
     "metadata": {},
     "output_type": "execute_result"
    }
   ],
   "source": [
    "# sorted(data[\"gate_id\"].unique())"
   ]
  },
  {
   "cell_type": "code",
   "execution_count": 76,
   "id": "0dae94a6-71c0-4539-991e-9ca6ec3f5c4b",
   "metadata": {
    "tags": []
   },
   "outputs": [
    {
     "data": {
      "text/plain": [
       "[-1, 1, 2, 3, 4, 5, 6, 7, 8, 9, 10, 11, 12, 13, 14, 15]"
      ]
     },
     "execution_count": 76,
     "metadata": {},
     "output_type": "execute_result"
    }
   ],
   "source": [
    "# sorted(data_test[\"gate_id\"].unique())"
   ]
  },
  {
   "cell_type": "code",
   "execution_count": 77,
   "id": "48c7be53-0063-454b-80e9-255b87b2d9c6",
   "metadata": {
    "tags": []
   },
   "outputs": [
    {
     "data": {
      "text/plain": [
       "row_id\n",
       "39911    2\n",
       "39912    2\n",
       "39928    2\n",
       "39929    2\n",
       "Name: gate_id, dtype: int64"
      ]
     },
     "execution_count": 77,
     "metadata": {},
     "output_type": "execute_result"
    }
   ],
   "source": [
    "data_test[\"gate_id\"][data_test[\"gate_id\"] == 2]"
   ]
  },
  {
   "cell_type": "markdown",
   "id": "40b47898-79bd-4c0e-8a0e-718b0f1575ed",
   "metadata": {},
   "source": [
    "### В тестовых данных нет gate_id = 0 и 16, есть gate_id = 2, которого нет в обучающей выборке"
   ]
  },
  {
   "cell_type": "code",
   "execution_count": 78,
   "id": "1fdc7254-d461-40c7-b1f0-669ee43eee8b",
   "metadata": {
    "tags": []
   },
   "outputs": [
    {
     "name": "stdout",
     "output_type": "stream",
     "text": [
      "<class 'pandas.core.frame.DataFrame'>\n",
      "Index: 37518 entries, 0 to 37517\n",
      "Data columns (total 8 columns):\n",
      " #   Column      Non-Null Count  Dtype         \n",
      "---  ------      --------------  -----         \n",
      " 0   user_id     37518 non-null  int64         \n",
      " 1   timestamp   37518 non-null  datetime64[ns]\n",
      " 2   gate_id     37518 non-null  int64         \n",
      " 3   hour        37518 non-null  int32         \n",
      " 4   minute      37518 non-null  int32         \n",
      " 5   day         37518 non-null  int32         \n",
      " 6   dayofweek   37518 non-null  int32         \n",
      " 7   is_weekend  37518 non-null  int64         \n",
      "dtypes: datetime64[ns](1), int32(4), int64(3)\n",
      "memory usage: 2.0 MB\n"
     ]
    }
   ],
   "source": [
    "data[\"hour\"] = data[\"timestamp\"].dt.hour\n",
    "data[\"minute\"] = data[\"timestamp\"].dt.minute\n",
    "data[\"day\"] = data[\"timestamp\"].dt.day\n",
    "data[\"dayofweek\"] = data[\"timestamp\"].dt.dayofweek\n",
    "data[\"is_weekend\"] = data[\"dayofweek\"] > 4\n",
    "data[\"is_weekend\"] = data[\"is_weekend\"].apply(int)\n",
    "data.info()"
   ]
  },
  {
   "cell_type": "code",
   "execution_count": 81,
   "id": "0ded303d-4c91-404a-bd3a-59dfb66bcf9c",
   "metadata": {
    "tags": []
   },
   "outputs": [
    {
     "data": {
      "text/html": [
       "<div>\n",
       "<style scoped>\n",
       "    .dataframe tbody tr th:only-of-type {\n",
       "        vertical-align: middle;\n",
       "    }\n",
       "\n",
       "    .dataframe tbody tr th {\n",
       "        vertical-align: top;\n",
       "    }\n",
       "\n",
       "    .dataframe thead th {\n",
       "        text-align: right;\n",
       "    }\n",
       "</style>\n",
       "<table border=\"1\" class=\"dataframe\">\n",
       "  <thead>\n",
       "    <tr style=\"text-align: right;\">\n",
       "      <th></th>\n",
       "      <th>user_id</th>\n",
       "      <th>timestamp</th>\n",
       "      <th>gate_id</th>\n",
       "      <th>hour</th>\n",
       "      <th>minute</th>\n",
       "      <th>day</th>\n",
       "      <th>dayofweek</th>\n",
       "      <th>is_weekend</th>\n",
       "    </tr>\n",
       "    <tr>\n",
       "      <th>row_id</th>\n",
       "      <th></th>\n",
       "      <th></th>\n",
       "      <th></th>\n",
       "      <th></th>\n",
       "      <th></th>\n",
       "      <th></th>\n",
       "      <th></th>\n",
       "      <th></th>\n",
       "    </tr>\n",
       "  </thead>\n",
       "  <tbody>\n",
       "    <tr>\n",
       "      <th>35802</th>\n",
       "      <td>1</td>\n",
       "      <td>2022-12-23 06:29:02</td>\n",
       "      <td>15</td>\n",
       "      <td>6</td>\n",
       "      <td>29</td>\n",
       "      <td>23</td>\n",
       "      <td>4</td>\n",
       "      <td>0</td>\n",
       "    </tr>\n",
       "    <tr>\n",
       "      <th>35803</th>\n",
       "      <td>1</td>\n",
       "      <td>2022-12-23 06:32:01</td>\n",
       "      <td>9</td>\n",
       "      <td>6</td>\n",
       "      <td>32</td>\n",
       "      <td>23</td>\n",
       "      <td>4</td>\n",
       "      <td>0</td>\n",
       "    </tr>\n",
       "    <tr>\n",
       "      <th>35804</th>\n",
       "      <td>1</td>\n",
       "      <td>2022-12-23 06:32:01</td>\n",
       "      <td>9</td>\n",
       "      <td>6</td>\n",
       "      <td>32</td>\n",
       "      <td>23</td>\n",
       "      <td>4</td>\n",
       "      <td>0</td>\n",
       "    </tr>\n",
       "    <tr>\n",
       "      <th>35805</th>\n",
       "      <td>1</td>\n",
       "      <td>2022-12-23 06:32:15</td>\n",
       "      <td>5</td>\n",
       "      <td>6</td>\n",
       "      <td>32</td>\n",
       "      <td>23</td>\n",
       "      <td>4</td>\n",
       "      <td>0</td>\n",
       "    </tr>\n",
       "    <tr>\n",
       "      <th>35806</th>\n",
       "      <td>1</td>\n",
       "      <td>2022-12-23 06:32:16</td>\n",
       "      <td>5</td>\n",
       "      <td>6</td>\n",
       "      <td>32</td>\n",
       "      <td>23</td>\n",
       "      <td>4</td>\n",
       "      <td>0</td>\n",
       "    </tr>\n",
       "    <tr>\n",
       "      <th>35807</th>\n",
       "      <td>1</td>\n",
       "      <td>2022-12-23 06:32:42</td>\n",
       "      <td>10</td>\n",
       "      <td>6</td>\n",
       "      <td>32</td>\n",
       "      <td>23</td>\n",
       "      <td>4</td>\n",
       "      <td>0</td>\n",
       "    </tr>\n",
       "  </tbody>\n",
       "</table>\n",
       "</div>"
      ],
      "text/plain": [
       "        user_id           timestamp  gate_id  hour  minute  day  dayofweek   \n",
       "row_id                                                                       \n",
       "35802         1 2022-12-23 06:29:02       15     6      29   23          4  \\\n",
       "35803         1 2022-12-23 06:32:01        9     6      32   23          4   \n",
       "35804         1 2022-12-23 06:32:01        9     6      32   23          4   \n",
       "35805         1 2022-12-23 06:32:15        5     6      32   23          4   \n",
       "35806         1 2022-12-23 06:32:16        5     6      32   23          4   \n",
       "35807         1 2022-12-23 06:32:42       10     6      32   23          4   \n",
       "\n",
       "        is_weekend  \n",
       "row_id              \n",
       "35802            0  \n",
       "35803            0  \n",
       "35804            0  \n",
       "35805            0  \n",
       "35806            0  \n",
       "35807            0  "
      ]
     },
     "execution_count": 81,
     "metadata": {},
     "output_type": "execute_result"
    }
   ],
   "source": [
    "data[data[\"hour\"] == 6]"
   ]
  },
  {
   "cell_type": "markdown",
   "id": "66202c06-6654-4917-8c11-56e203722135",
   "metadata": {},
   "source": [
    "## Посмотрим на пользователей"
   ]
  },
  {
   "cell_type": "code",
   "execution_count": 40,
   "id": "60e771e4-efa4-4585-8e6b-abc948e9f5fd",
   "metadata": {
    "tags": []
   },
   "outputs": [
    {
     "data": {
      "text/plain": [
       "user_id\n",
       "4      2\n",
       "51     3\n",
       "44     4\n",
       "21     5\n",
       "52     5\n",
       "30    10\n",
       "5     10\n",
       "38    13\n",
       "10    17\n",
       "8     29\n",
       "Name: count, dtype: int64"
      ]
     },
     "execution_count": 40,
     "metadata": {},
     "output_type": "execute_result"
    }
   ],
   "source": [
    "# посмотрим пользователей которые проходят через ПК (пунтк контроля) реже всего\n",
    "data[\"user_id\"].value_counts(ascending=True).head(10)"
   ]
  },
  {
   "cell_type": "markdown",
   "id": "b089cb06-0ce7-480c-9bcf-636303c414fd",
   "metadata": {},
   "source": [
    "Если удалить этих пользователей станет ли прогноз лучше?"
   ]
  },
  {
   "cell_type": "code",
   "execution_count": 53,
   "id": "70a1525a-5660-4fad-a4bb-afe59c717266",
   "metadata": {
    "tags": []
   },
   "outputs": [
    {
     "data": {
      "text/plain": [
       "gate_id\n",
       " 4     8170\n",
       " 3     5351\n",
       " 10    4767\n",
       " 5     4619\n",
       " 11    4090\n",
       " 9     3390\n",
       " 7     3026\n",
       " 6     1800\n",
       " 13    1201\n",
       " 12     698\n",
       " 15     298\n",
       "-1       48\n",
       " 8       48\n",
       " 1        5\n",
       " 16       4\n",
       " 0        2\n",
       " 14       1\n",
       "Name: count, dtype: int64"
      ]
     },
     "execution_count": 53,
     "metadata": {},
     "output_type": "execute_result"
    }
   ],
   "source": [
    "data[\"gate_id\"].value_counts(ascending=False).head(20)"
   ]
  },
  {
   "cell_type": "code",
   "execution_count": 4,
   "id": "9467947e-9593-4ca6-962f-e17c5b24fea6",
   "metadata": {
    "tags": []
   },
   "outputs": [
    {
     "data": {
      "text/plain": [
       "<Axes: xlabel='hour', ylabel='Count'>"
      ]
     },
     "execution_count": 4,
     "metadata": {},
     "output_type": "execute_result"
    },
    {
     "data": {
      "image/png": "[encoded data removed]",
      "text/plain": [
       "<Figure size 640x480 with 1 Axes>"
      ]
     },
     "metadata": {},
     "output_type": "display_data"
    }
   ],
   "source": [
    "# Посмотрим на распределение по часам и gate_id\n",
    "sns.histplot(data=data, x=\"hour\", bins=24, hue=\"gate_id\", palette=\"husl\")"
   ]
  },
  {
   "cell_type": "code",
   "execution_count": 31,
   "id": "4d0b1880-198a-478a-a043-db0ac26f3771",
   "metadata": {
    "tags": []
   },
   "outputs": [
    {
     "data": {
      "text/plain": [
       "<Axes: xlabel='hour', ylabel='Count'>"
      ]
     },
     "execution_count": 31,
     "metadata": {},
     "output_type": "execute_result"
    },
    {
     "data": {
      "image/png": "[encoded data removed]",
      "text/plain": [
       "<Figure size 640x480 with 1 Axes>"
      ]
     },
     "metadata": {},
     "output_type": "display_data"
    }
   ],
   "source": [
    "sns.histplot(data=data[(data[\"gate_id\"] == 3)], x=\"hour\", bins=24)"
   ]
  },
  {
   "cell_type": "code",
   "execution_count": 58,
   "id": "f900531c-2499-4c93-9498-90faf6ee013e",
   "metadata": {
    "tags": []
   },
   "outputs": [
    {
     "data": {
      "text/plain": [
       "<Axes: xlabel='dayofweek', ylabel='Count'>"
      ]
     },
     "execution_count": 58,
     "metadata": {},
     "output_type": "execute_result"
    },
    {
     "data": {
      "image/png": "[encoded data removed]",
      "text/plain": [
       "<Figure size 640x480 with 1 Axes>"
      ]
     },
     "metadata": {},
     "output_type": "display_data"
    }
   ],
   "source": [
    "sns.histplot(data=data[data[\"user_id\"] == 30], x=\"dayofweek\")"
   ]
  },
  {
   "cell_type": "code",
   "execution_count": null,
   "id": "350f5e86-c56f-4c4f-b546-2ad263a30db9",
   "metadata": {},
   "outputs": [],
   "source": []
  }
 ],
 "metadata": {
  "kernelspec": {
   "display_name": "Python 3 (ipykernel)",
   "language": "python",
   "name": "python3"
  },
  "language_info": {
   "codemirror_mode": {
    "name": "ipython",
    "version": 3
   },
   "file_extension": ".py",
   "mimetype": "text/x-python",
   "name": "python",
   "nbconvert_exporter": "python",
   "pygments_lexer": "ipython3",
   "version": "3.11.2"
  }
 },
 "nbformat": 4,
 "nbformat_minor": 5
}
