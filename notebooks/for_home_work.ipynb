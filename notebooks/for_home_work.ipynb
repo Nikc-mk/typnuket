{
 "cells": [
  {
   "cell_type": "markdown",
   "id": "cfd0f0bb-2f9f-450b-8572-a2810cf4ffa4",
   "metadata": {
    "tags": []
   },
   "source": [
    "## Описание данных"
   ]
  },
  {
   "cell_type": "code",
   "execution_count": 1,
   "id": "2460e308-474e-4c7a-b878-fd7317852fa7",
   "metadata": {
    "tags": []
   },
   "outputs": [],
   "source": [
    "import pandas as pd\n",
    "import numpy as np\n",
    "import os\n",
    "import warnings\n",
    "\n",
    "warnings.filterwarnings(\"ignore\")\n",
    "from sklearn.linear_model import LogisticRegression\n",
    "from sklearn.pipeline import Pipeline\n",
    "from sklearn.pipeline import make_pipeline\n",
    "from sklearn.preprocessing import StandardScaler\n",
    "from sklearn.model_selection import train_test_split\n",
    "from sklearn import preprocessing\n",
    "from sklearn.model_selection import learning_curve\n",
    "from sklearn.model_selection import validation_curve\n",
    "from sklearn.metrics import classification_report"
   ]
  },
  {
   "cell_type": "markdown",
   "id": "774c1608-8169-4069-b793-5f33aeca7ef3",
   "metadata": {},
   "source": [
    "gate_id - id пункта контроля(шлагбаум, турникет, дверь на этаже)\n",
    "\n",
    "timestamp - дата и время прохода через ПК\n",
    "\n",
    "user_id - id пользователя "
   ]
  },
  {
   "cell_type": "code",
   "execution_count": 2,
   "id": "eba27dc1-9134-4396-9957-f5940f08909b",
   "metadata": {
    "tags": []
   },
   "outputs": [
    {
     "name": "stdout",
     "output_type": "stream",
     "text": [
      "<class 'pandas.core.frame.DataFrame'>\n",
      "Index: 37518 entries, 0 to 37517\n",
      "Data columns (total 3 columns):\n",
      " #   Column     Non-Null Count  Dtype         \n",
      "---  ------     --------------  -----         \n",
      " 0   user_id    37518 non-null  int64         \n",
      " 1   timestamp  37518 non-null  datetime64[ns]\n",
      " 2   gate_id    37518 non-null  int64         \n",
      "dtypes: datetime64[ns](1), int64(2)\n",
      "memory usage: 1.1 MB\n"
     ]
    }
   ],
   "source": [
    "# Прочитаем данные, переведем timestamp в формат datetime64, изначально он считывается как object\n",
    "data = pd.read_csv(\"../data/raw/train.csv\", index_col=\"row_id\")\n",
    "data[\"timestamp\"] = data[\"timestamp\"].astype(\"datetime64[ns]\")\n",
    "data.info()"
   ]
  },
  {
   "cell_type": "code",
   "execution_count": 3,
   "id": "35e60c44-fa7c-42b4-9202-6e73dd03202b",
   "metadata": {
    "tags": []
   },
   "outputs": [
    {
     "data": {
      "text/html": [
       "<div>\n",
       "<style scoped>\n",
       "    .dataframe tbody tr th:only-of-type {\n",
       "        vertical-align: middle;\n",
       "    }\n",
       "\n",
       "    .dataframe tbody tr th {\n",
       "        vertical-align: top;\n",
       "    }\n",
       "\n",
       "    .dataframe thead th {\n",
       "        text-align: right;\n",
       "    }\n",
       "</style>\n",
       "<table border=\"1\" class=\"dataframe\">\n",
       "  <thead>\n",
       "    <tr style=\"text-align: right;\">\n",
       "      <th></th>\n",
       "      <th>user_id</th>\n",
       "      <th>timestamp</th>\n",
       "      <th>gate_id</th>\n",
       "    </tr>\n",
       "    <tr>\n",
       "      <th>row_id</th>\n",
       "      <th></th>\n",
       "      <th></th>\n",
       "      <th></th>\n",
       "    </tr>\n",
       "  </thead>\n",
       "  <tbody>\n",
       "    <tr>\n",
       "      <th>0</th>\n",
       "      <td>18</td>\n",
       "      <td>2022-07-29 09:08:54</td>\n",
       "      <td>7</td>\n",
       "    </tr>\n",
       "    <tr>\n",
       "      <th>1</th>\n",
       "      <td>18</td>\n",
       "      <td>2022-07-29 09:09:54</td>\n",
       "      <td>9</td>\n",
       "    </tr>\n",
       "    <tr>\n",
       "      <th>2</th>\n",
       "      <td>18</td>\n",
       "      <td>2022-07-29 09:09:54</td>\n",
       "      <td>9</td>\n",
       "    </tr>\n",
       "    <tr>\n",
       "      <th>3</th>\n",
       "      <td>18</td>\n",
       "      <td>2022-07-29 09:10:06</td>\n",
       "      <td>5</td>\n",
       "    </tr>\n",
       "    <tr>\n",
       "      <th>4</th>\n",
       "      <td>18</td>\n",
       "      <td>2022-07-29 09:10:08</td>\n",
       "      <td>5</td>\n",
       "    </tr>\n",
       "  </tbody>\n",
       "</table>\n",
       "</div>"
      ],
      "text/plain": [
       "        user_id           timestamp  gate_id\n",
       "row_id                                      \n",
       "0            18 2022-07-29 09:08:54        7\n",
       "1            18 2022-07-29 09:09:54        9\n",
       "2            18 2022-07-29 09:09:54        9\n",
       "3            18 2022-07-29 09:10:06        5\n",
       "4            18 2022-07-29 09:10:08        5"
      ]
     },
     "execution_count": 3,
     "metadata": {},
     "output_type": "execute_result"
    }
   ],
   "source": [
    "data.head(5)"
   ]
  },
  {
   "cell_type": "markdown",
   "id": "38347f3d-779a-4333-ae3f-43a9b65c817e",
   "metadata": {},
   "source": [
    "## Вопрос №1"
   ]
  },
  {
   "cell_type": "markdown",
   "id": "896ae3b3-f12a-4677-80f0-a2d920a2ab05",
   "metadata": {},
   "source": [
    "Постройте логистическую регрессию, оптимизатор liblinear, остальные параметры дефолтные, на 6 признаках: ['gate_id', 'hour', 'min', 'day', 'month','dayofweek']. Признаки делаем из \"ts\", в частности \"min\" - это минуты из времени. Используем масштабирование StandardScaler.\n",
    "\n",
    "Каково будет качество на обучающей выборке и на валидации (округлите до целых и выберите ближайший ответ)"
   ]
  },
  {
   "cell_type": "code",
   "execution_count": 4,
   "id": "d07f2139-bc65-4ac6-a259-91af0d2a467c",
   "metadata": {},
   "outputs": [
    {
     "data": {
      "text/html": [
       "<div>\n",
       "<style scoped>\n",
       "    .dataframe tbody tr th:only-of-type {\n",
       "        vertical-align: middle;\n",
       "    }\n",
       "\n",
       "    .dataframe tbody tr th {\n",
       "        vertical-align: top;\n",
       "    }\n",
       "\n",
       "    .dataframe thead th {\n",
       "        text-align: right;\n",
       "    }\n",
       "</style>\n",
       "<table border=\"1\" class=\"dataframe\">\n",
       "  <thead>\n",
       "    <tr style=\"text-align: right;\">\n",
       "      <th></th>\n",
       "      <th>user_id</th>\n",
       "      <th>timestamp</th>\n",
       "      <th>gate_id</th>\n",
       "      <th>hour</th>\n",
       "      <th>minute</th>\n",
       "      <th>day</th>\n",
       "      <th>month</th>\n",
       "      <th>dayofweek</th>\n",
       "    </tr>\n",
       "    <tr>\n",
       "      <th>row_id</th>\n",
       "      <th></th>\n",
       "      <th></th>\n",
       "      <th></th>\n",
       "      <th></th>\n",
       "      <th></th>\n",
       "      <th></th>\n",
       "      <th></th>\n",
       "      <th></th>\n",
       "    </tr>\n",
       "  </thead>\n",
       "  <tbody>\n",
       "    <tr>\n",
       "      <th>0</th>\n",
       "      <td>18</td>\n",
       "      <td>2022-07-29 09:08:54</td>\n",
       "      <td>7</td>\n",
       "      <td>9</td>\n",
       "      <td>8</td>\n",
       "      <td>29</td>\n",
       "      <td>7</td>\n",
       "      <td>4</td>\n",
       "    </tr>\n",
       "    <tr>\n",
       "      <th>1</th>\n",
       "      <td>18</td>\n",
       "      <td>2022-07-29 09:09:54</td>\n",
       "      <td>9</td>\n",
       "      <td>9</td>\n",
       "      <td>9</td>\n",
       "      <td>29</td>\n",
       "      <td>7</td>\n",
       "      <td>4</td>\n",
       "    </tr>\n",
       "    <tr>\n",
       "      <th>2</th>\n",
       "      <td>18</td>\n",
       "      <td>2022-07-29 09:09:54</td>\n",
       "      <td>9</td>\n",
       "      <td>9</td>\n",
       "      <td>9</td>\n",
       "      <td>29</td>\n",
       "      <td>7</td>\n",
       "      <td>4</td>\n",
       "    </tr>\n",
       "    <tr>\n",
       "      <th>3</th>\n",
       "      <td>18</td>\n",
       "      <td>2022-07-29 09:10:06</td>\n",
       "      <td>5</td>\n",
       "      <td>9</td>\n",
       "      <td>10</td>\n",
       "      <td>29</td>\n",
       "      <td>7</td>\n",
       "      <td>4</td>\n",
       "    </tr>\n",
       "    <tr>\n",
       "      <th>4</th>\n",
       "      <td>18</td>\n",
       "      <td>2022-07-29 09:10:08</td>\n",
       "      <td>5</td>\n",
       "      <td>9</td>\n",
       "      <td>10</td>\n",
       "      <td>29</td>\n",
       "      <td>7</td>\n",
       "      <td>4</td>\n",
       "    </tr>\n",
       "  </tbody>\n",
       "</table>\n",
       "</div>"
      ],
      "text/plain": [
       "        user_id           timestamp  gate_id  hour  minute  day  month   \n",
       "row_id                                                                   \n",
       "0            18 2022-07-29 09:08:54        7     9       8   29      7  \\\n",
       "1            18 2022-07-29 09:09:54        9     9       9   29      7   \n",
       "2            18 2022-07-29 09:09:54        9     9       9   29      7   \n",
       "3            18 2022-07-29 09:10:06        5     9      10   29      7   \n",
       "4            18 2022-07-29 09:10:08        5     9      10   29      7   \n",
       "\n",
       "        dayofweek  \n",
       "row_id             \n",
       "0               4  \n",
       "1               4  \n",
       "2               4  \n",
       "3               4  \n",
       "4               4  "
      ]
     },
     "execution_count": 4,
     "metadata": {},
     "output_type": "execute_result"
    }
   ],
   "source": [
    "# создадим фичи для логистической регрессии на основе timestamp\n",
    "# часы\n",
    "data[\"hour\"] = data[\"timestamp\"].dt.hour\n",
    "# минуты\n",
    "data[\"minute\"] = data[\"timestamp\"].dt.minute\n",
    "# число\n",
    "data[\"day\"] = data[\"timestamp\"].dt.day\n",
    "# месяц\n",
    "data[\"month\"] = data[\"timestamp\"].dt.month\n",
    "# день недели\n",
    "data[\"dayofweek\"] = data[\"timestamp\"].dt.dayofweek\n",
    "# если выходной то 1, будни 0\n",
    "# data[\"is_weekend\"] = data['dayofweek'] > 4\n",
    "# data[\"is_weekend\"] = data['is_weekend'].apply(int)\n",
    "data.head(5)"
   ]
  },
  {
   "cell_type": "code",
   "execution_count": 5,
   "id": "9f15072a-e486-42ff-8783-77c952c728ee",
   "metadata": {
    "tags": []
   },
   "outputs": [],
   "source": [
    "# создадим функию чтобы разбивать датафрейм на X_train, X_test, y_train, y_test\n",
    "def data_stlit_to_train_test(df: pd.DataFrame):\n",
    "    data_train = df[df[\"timestamp\"] < \"2022-11-01 00:00:00\"]\n",
    "    data_test = df[df[\"timestamp\"] >= \"2022-11-01 00:00:00\"]\n",
    "    X_train, y_train = (\n",
    "        data_train.drop(columns=[\"user_id\", \"timestamp\"]),\n",
    "        data_train[\"user_id\"],\n",
    "    )\n",
    "    X_test, y_test = (\n",
    "        data_test.drop(columns=[\"user_id\", \"timestamp\"]),\n",
    "        data_test[\"user_id\"],\n",
    "    )\n",
    "    return X_train, X_test, y_train, y_test"
   ]
  },
  {
   "cell_type": "code",
   "execution_count": 8,
   "id": "62d1eba2-8781-469a-8a98-433d9abf9504",
   "metadata": {
    "tags": []
   },
   "outputs": [],
   "source": [
    "# разбиваем данные с помощью объявленной функции\n",
    "X_train, X_test, y_train, y_test = data_stlit_to_train_test(df=data)"
   ]
  },
  {
   "cell_type": "code",
   "execution_count": 9,
   "id": "6c145b2d-8bdc-4f63-bdd4-031eb8b348d9",
   "metadata": {},
   "outputs": [
    {
     "name": "stdout",
     "output_type": "stream",
     "text": [
      "На трайне 9.66684057538943\n",
      "На вадидации 4.782852864095844\n"
     ]
    }
   ],
   "source": [
    "pipe = make_pipeline(StandardScaler(), LogisticRegression(solver=\"liblinear\"))\n",
    "pipe.fit(X_train, y_train)\n",
    "\n",
    "print(\"На трайне\", pipe.score(X_train, y_train) * 100)\n",
    "print(\"На вадидации\", pipe.score(X_test, y_test) * 100)"
   ]
  },
  {
   "cell_type": "markdown",
   "id": "ceb4e6a5-8ca9-46af-9304-df7e33fbc1d7",
   "metadata": {},
   "source": [
    "## Вопрос №2 и 3"
   ]
  },
  {
   "cell_type": "markdown",
   "id": "a5e0f08c-be59-4a6b-bba0-5e315d434556",
   "metadata": {},
   "source": [
    "Постройте логистическую регрессию на дефолтных параметрах, но random_state=1, solver=saga, и 13 признаках:\n",
    "['gate_id', 'hour', 'min', 'day', 'month', 'dayofweek','Monday','Tuesday','Wednesday','Thursday','Friday','Saturday','Sunday'].  Используем масштабирование StandardScaler."
   ]
  },
  {
   "cell_type": "code",
   "execution_count": 10,
   "id": "9d06eb9a-ef7b-4a61-9ea8-d8949904a2f2",
   "metadata": {
    "tags": []
   },
   "outputs": [
    {
     "data": {
      "text/html": [
       "<div>\n",
       "<style scoped>\n",
       "    .dataframe tbody tr th:only-of-type {\n",
       "        vertical-align: middle;\n",
       "    }\n",
       "\n",
       "    .dataframe tbody tr th {\n",
       "        vertical-align: top;\n",
       "    }\n",
       "\n",
       "    .dataframe thead th {\n",
       "        text-align: right;\n",
       "    }\n",
       "</style>\n",
       "<table border=\"1\" class=\"dataframe\">\n",
       "  <thead>\n",
       "    <tr style=\"text-align: right;\">\n",
       "      <th></th>\n",
       "      <th>user_id</th>\n",
       "      <th>timestamp</th>\n",
       "      <th>gate_id</th>\n",
       "      <th>hour</th>\n",
       "      <th>minute</th>\n",
       "      <th>day</th>\n",
       "      <th>month</th>\n",
       "      <th>dayofweek</th>\n",
       "      <th>Monday</th>\n",
       "      <th>Tuesday</th>\n",
       "      <th>Wednesday</th>\n",
       "      <th>Thursday</th>\n",
       "      <th>Friday</th>\n",
       "      <th>Saturday</th>\n",
       "      <th>Sunday</th>\n",
       "    </tr>\n",
       "    <tr>\n",
       "      <th>row_id</th>\n",
       "      <th></th>\n",
       "      <th></th>\n",
       "      <th></th>\n",
       "      <th></th>\n",
       "      <th></th>\n",
       "      <th></th>\n",
       "      <th></th>\n",
       "      <th></th>\n",
       "      <th></th>\n",
       "      <th></th>\n",
       "      <th></th>\n",
       "      <th></th>\n",
       "      <th></th>\n",
       "      <th></th>\n",
       "      <th></th>\n",
       "    </tr>\n",
       "  </thead>\n",
       "  <tbody>\n",
       "    <tr>\n",
       "      <th>0</th>\n",
       "      <td>18</td>\n",
       "      <td>2022-07-29 09:08:54</td>\n",
       "      <td>7</td>\n",
       "      <td>9</td>\n",
       "      <td>8</td>\n",
       "      <td>29</td>\n",
       "      <td>7</td>\n",
       "      <td>4</td>\n",
       "      <td>0</td>\n",
       "      <td>0</td>\n",
       "      <td>0</td>\n",
       "      <td>0</td>\n",
       "      <td>1</td>\n",
       "      <td>0</td>\n",
       "      <td>0</td>\n",
       "    </tr>\n",
       "    <tr>\n",
       "      <th>1</th>\n",
       "      <td>18</td>\n",
       "      <td>2022-07-29 09:09:54</td>\n",
       "      <td>9</td>\n",
       "      <td>9</td>\n",
       "      <td>9</td>\n",
       "      <td>29</td>\n",
       "      <td>7</td>\n",
       "      <td>4</td>\n",
       "      <td>0</td>\n",
       "      <td>0</td>\n",
       "      <td>0</td>\n",
       "      <td>0</td>\n",
       "      <td>1</td>\n",
       "      <td>0</td>\n",
       "      <td>0</td>\n",
       "    </tr>\n",
       "    <tr>\n",
       "      <th>2</th>\n",
       "      <td>18</td>\n",
       "      <td>2022-07-29 09:09:54</td>\n",
       "      <td>9</td>\n",
       "      <td>9</td>\n",
       "      <td>9</td>\n",
       "      <td>29</td>\n",
       "      <td>7</td>\n",
       "      <td>4</td>\n",
       "      <td>0</td>\n",
       "      <td>0</td>\n",
       "      <td>0</td>\n",
       "      <td>0</td>\n",
       "      <td>1</td>\n",
       "      <td>0</td>\n",
       "      <td>0</td>\n",
       "    </tr>\n",
       "  </tbody>\n",
       "</table>\n",
       "</div>"
      ],
      "text/plain": [
       "        user_id           timestamp  gate_id  hour  minute  day  month   \n",
       "row_id                                                                   \n",
       "0            18 2022-07-29 09:08:54        7     9       8   29      7  \\\n",
       "1            18 2022-07-29 09:09:54        9     9       9   29      7   \n",
       "2            18 2022-07-29 09:09:54        9     9       9   29      7   \n",
       "\n",
       "        dayofweek  Monday  Tuesday  Wednesday  Thursday  Friday  Saturday   \n",
       "row_id                                                                      \n",
       "0               4       0        0          0         0       1         0  \\\n",
       "1               4       0        0          0         0       1         0   \n",
       "2               4       0        0          0         0       1         0   \n",
       "\n",
       "        Sunday  \n",
       "row_id          \n",
       "0            0  \n",
       "1            0  \n",
       "2            0  "
      ]
     },
     "execution_count": 10,
     "metadata": {},
     "output_type": "execute_result"
    }
   ],
   "source": [
    "data_2 = data\n",
    "data_2[\"Monday\"] = data[\"dayofweek\"] == 0\n",
    "data_2[\"Monday\"] = data[\"Monday\"].apply(int)\n",
    "data_2[\"Tuesday\"] = data[\"dayofweek\"] == 1\n",
    "data_2[\"Tuesday\"] = data[\"Tuesday\"].apply(int)\n",
    "data_2[\"Wednesday\"] = data[\"dayofweek\"] == 2\n",
    "data_2[\"Wednesday\"] = data[\"Wednesday\"].apply(int)\n",
    "data_2[\"Thursday\"] = data[\"dayofweek\"] == 3\n",
    "data_2[\"Thursday\"] = data[\"Thursday\"].apply(int)\n",
    "data_2[\"Friday\"] = data[\"dayofweek\"] == 4\n",
    "data_2[\"Friday\"] = data[\"Friday\"].apply(int)\n",
    "data_2[\"Saturday\"] = data[\"dayofweek\"] == 5\n",
    "data_2[\"Saturday\"] = data[\"Saturday\"].apply(int)\n",
    "data_2[\"Sunday\"] = data[\"dayofweek\"] == 6\n",
    "data_2[\"Sunday\"] = data[\"Sunday\"].apply(int)\n",
    "data_2.head(3)"
   ]
  },
  {
   "cell_type": "code",
   "execution_count": 11,
   "id": "64850859-2a0f-4b32-8ee2-5f4d2d6e3d90",
   "metadata": {
    "tags": []
   },
   "outputs": [
    {
     "name": "stdout",
     "output_type": "stream",
     "text": [
      "На трайне 10.523962137586643\n",
      "На вадидации 4.6892549606888805\n"
     ]
    }
   ],
   "source": [
    "# data_2 = data_2.drop(columns=[\"dayofweek\"])\n",
    "X_train, X_test, y_train, y_test = data_stlit_to_train_test(df=data_2)\n",
    "pipe = make_pipeline(\n",
    "    StandardScaler(),\n",
    "    LogisticRegression(\n",
    "        # penalty=\"l1\",\n",
    "        random_state=1,\n",
    "        solver=\"saga\",\n",
    "        n_jobs=-2\n",
    "        # , multi_class=\"multinomial\"\n",
    "        # ,  l1_ratio=0.5\n",
    "    ),\n",
    ")\n",
    "pipe.fit(X_train, y_train)\n",
    "print(\"На трайне\", pipe.score(X_train, y_train) * 100)\n",
    "print(\"На вадидации\", pipe.score(X_test, y_test) * 100)\n",
    "# На трайне 10.523962137586643\n",
    "# На вадидации 4.6892549606888805"
   ]
  },
  {
   "cell_type": "code",
   "execution_count": 12,
   "id": "86f0a301-04b1-4d73-aac8-fb6920bd0a59",
   "metadata": {},
   "outputs": [
    {
     "data": {
      "text/html": [
       "<div>\n",
       "<style scoped>\n",
       "    .dataframe tbody tr th:only-of-type {\n",
       "        vertical-align: middle;\n",
       "    }\n",
       "\n",
       "    .dataframe tbody tr th {\n",
       "        vertical-align: top;\n",
       "    }\n",
       "\n",
       "    .dataframe thead th {\n",
       "        text-align: right;\n",
       "    }\n",
       "</style>\n",
       "<table border=\"1\" class=\"dataframe\">\n",
       "  <thead>\n",
       "    <tr style=\"text-align: right;\">\n",
       "      <th></th>\n",
       "      <th>gate_id</th>\n",
       "      <th>hour</th>\n",
       "      <th>minute</th>\n",
       "      <th>day</th>\n",
       "      <th>month</th>\n",
       "      <th>dayofweek</th>\n",
       "      <th>Monday</th>\n",
       "      <th>Tuesday</th>\n",
       "      <th>Wednesday</th>\n",
       "      <th>Thursday</th>\n",
       "      <th>Friday</th>\n",
       "      <th>Saturday</th>\n",
       "      <th>Sunday</th>\n",
       "    </tr>\n",
       "    <tr>\n",
       "      <th>row_id</th>\n",
       "      <th></th>\n",
       "      <th></th>\n",
       "      <th></th>\n",
       "      <th></th>\n",
       "      <th></th>\n",
       "      <th></th>\n",
       "      <th></th>\n",
       "      <th></th>\n",
       "      <th></th>\n",
       "      <th></th>\n",
       "      <th></th>\n",
       "      <th></th>\n",
       "      <th></th>\n",
       "    </tr>\n",
       "  </thead>\n",
       "  <tbody>\n",
       "    <tr>\n",
       "      <th>0</th>\n",
       "      <td>7</td>\n",
       "      <td>9</td>\n",
       "      <td>8</td>\n",
       "      <td>29</td>\n",
       "      <td>7</td>\n",
       "      <td>4</td>\n",
       "      <td>0</td>\n",
       "      <td>0</td>\n",
       "      <td>0</td>\n",
       "      <td>0</td>\n",
       "      <td>1</td>\n",
       "      <td>0</td>\n",
       "      <td>0</td>\n",
       "    </tr>\n",
       "    <tr>\n",
       "      <th>1</th>\n",
       "      <td>9</td>\n",
       "      <td>9</td>\n",
       "      <td>9</td>\n",
       "      <td>29</td>\n",
       "      <td>7</td>\n",
       "      <td>4</td>\n",
       "      <td>0</td>\n",
       "      <td>0</td>\n",
       "      <td>0</td>\n",
       "      <td>0</td>\n",
       "      <td>1</td>\n",
       "      <td>0</td>\n",
       "      <td>0</td>\n",
       "    </tr>\n",
       "    <tr>\n",
       "      <th>2</th>\n",
       "      <td>9</td>\n",
       "      <td>9</td>\n",
       "      <td>9</td>\n",
       "      <td>29</td>\n",
       "      <td>7</td>\n",
       "      <td>4</td>\n",
       "      <td>0</td>\n",
       "      <td>0</td>\n",
       "      <td>0</td>\n",
       "      <td>0</td>\n",
       "      <td>1</td>\n",
       "      <td>0</td>\n",
       "      <td>0</td>\n",
       "    </tr>\n",
       "    <tr>\n",
       "      <th>3</th>\n",
       "      <td>5</td>\n",
       "      <td>9</td>\n",
       "      <td>10</td>\n",
       "      <td>29</td>\n",
       "      <td>7</td>\n",
       "      <td>4</td>\n",
       "      <td>0</td>\n",
       "      <td>0</td>\n",
       "      <td>0</td>\n",
       "      <td>0</td>\n",
       "      <td>1</td>\n",
       "      <td>0</td>\n",
       "      <td>0</td>\n",
       "    </tr>\n",
       "    <tr>\n",
       "      <th>4</th>\n",
       "      <td>5</td>\n",
       "      <td>9</td>\n",
       "      <td>10</td>\n",
       "      <td>29</td>\n",
       "      <td>7</td>\n",
       "      <td>4</td>\n",
       "      <td>0</td>\n",
       "      <td>0</td>\n",
       "      <td>0</td>\n",
       "      <td>0</td>\n",
       "      <td>1</td>\n",
       "      <td>0</td>\n",
       "      <td>0</td>\n",
       "    </tr>\n",
       "  </tbody>\n",
       "</table>\n",
       "</div>"
      ],
      "text/plain": [
       "        gate_id  hour  minute  day  month  dayofweek  Monday  Tuesday   \n",
       "row_id                                                                  \n",
       "0             7     9       8   29      7          4       0        0  \\\n",
       "1             9     9       9   29      7          4       0        0   \n",
       "2             9     9       9   29      7          4       0        0   \n",
       "3             5     9      10   29      7          4       0        0   \n",
       "4             5     9      10   29      7          4       0        0   \n",
       "\n",
       "        Wednesday  Thursday  Friday  Saturday  Sunday  \n",
       "row_id                                                 \n",
       "0               0         0       1         0       0  \n",
       "1               0         0       1         0       0  \n",
       "2               0         0       1         0       0  \n",
       "3               0         0       1         0       0  \n",
       "4               0         0       1         0       0  "
      ]
     },
     "execution_count": 12,
     "metadata": {},
     "output_type": "execute_result"
    }
   ],
   "source": [
    "X_train.head()"
   ]
  },
  {
   "cell_type": "markdown",
   "id": "2fe61dec-3453-4c95-93f1-aff33f430294",
   "metadata": {},
   "source": [
    "## Вопрос №4"
   ]
  },
  {
   "cell_type": "markdown",
   "id": "0493900e-c7a8-44cb-b7b8-27c6dee4e5b6",
   "metadata": {},
   "source": [
    "Постройте логистическую регрессию на дефолтных параметрах и 33 признаках:\n",
    "['gate_-1', 'gate_0', 'gate_1',\n",
    "       'gate_3', 'gate_4', 'gate_5', 'gate_6', 'gate_7', 'gate_8', 'gate_9',\n",
    "       'gate_10', 'gate_11', 'gate_12', 'gate_13', 'gate_14', 'gate_15',\n",
    "       'gate_16', 'Monday', 'Tuesday', 'Wednesday', 'Thursday', 'Friday',\n",
    "       'Saturday', 'Sunday', 'month_7', 'month_8',\n",
    "       'month_9', 'month_10', 'month_11', 'month_12', 'hour', 'min', 'day'].  Используем масштабирование StandardScaler."
   ]
  },
  {
   "cell_type": "code",
   "execution_count": 13,
   "id": "309dfbb3-496b-4e1e-bd55-51800c5bf54f",
   "metadata": {
    "tags": []
   },
   "outputs": [
    {
     "name": "stdout",
     "output_type": "stream",
     "text": [
      "<class 'pandas.core.frame.DataFrame'>\n",
      "Index: 37518 entries, 0 to 37517\n",
      "Data columns (total 36 columns):\n",
      " #   Column      Non-Null Count  Dtype         \n",
      "---  ------      --------------  -----         \n",
      " 0   user_id     37518 non-null  int64         \n",
      " 1   timestamp   37518 non-null  datetime64[ns]\n",
      " 2   hour        37518 non-null  int32         \n",
      " 3   minute      37518 non-null  int32         \n",
      " 4   day         37518 non-null  int32         \n",
      " 5   dayofweek   37518 non-null  int32         \n",
      " 6   Monday      37518 non-null  int64         \n",
      " 7   Tuesday     37518 non-null  int64         \n",
      " 8   Wednesday   37518 non-null  int64         \n",
      " 9   Thursday    37518 non-null  int64         \n",
      " 10  Friday      37518 non-null  int64         \n",
      " 11  Saturday    37518 non-null  int64         \n",
      " 12  Sunday      37518 non-null  int64         \n",
      " 13  gate_id_-1  37518 non-null  bool          \n",
      " 14  gate_id_0   37518 non-null  bool          \n",
      " 15  gate_id_1   37518 non-null  bool          \n",
      " 16  gate_id_3   37518 non-null  bool          \n",
      " 17  gate_id_4   37518 non-null  bool          \n",
      " 18  gate_id_5   37518 non-null  bool          \n",
      " 19  gate_id_6   37518 non-null  bool          \n",
      " 20  gate_id_7   37518 non-null  bool          \n",
      " 21  gate_id_8   37518 non-null  bool          \n",
      " 22  gate_id_9   37518 non-null  bool          \n",
      " 23  gate_id_10  37518 non-null  bool          \n",
      " 24  gate_id_11  37518 non-null  bool          \n",
      " 25  gate_id_12  37518 non-null  bool          \n",
      " 26  gate_id_13  37518 non-null  bool          \n",
      " 27  gate_id_14  37518 non-null  bool          \n",
      " 28  gate_id_15  37518 non-null  bool          \n",
      " 29  gate_id_16  37518 non-null  bool          \n",
      " 30  month_7     37518 non-null  bool          \n",
      " 31  month_8     37518 non-null  bool          \n",
      " 32  month_9     37518 non-null  bool          \n",
      " 33  month_10    37518 non-null  bool          \n",
      " 34  month_11    37518 non-null  bool          \n",
      " 35  month_12    37518 non-null  bool          \n",
      "dtypes: bool(23), datetime64[ns](1), int32(4), int64(8)\n",
      "memory usage: 4.3 MB\n"
     ]
    }
   ],
   "source": [
    "data_4 = pd.get_dummies(data_2, columns=[\"gate_id\", \"month\"])\n",
    "data_4.info()"
   ]
  },
  {
   "cell_type": "code",
   "execution_count": 22,
   "id": "21ed3d64-8fdd-41af-8f8d-c5ca90929b48",
   "metadata": {
    "tags": []
   },
   "outputs": [
    {
     "name": "stdout",
     "output_type": "stream",
     "text": [
      "На трайне 14.45554147723038\n",
      "На вадидации 7.375514788468738\n"
     ]
    }
   ],
   "source": [
    "X_train, X_test, y_train, y_test = data_stlit_to_train_test(df=data_4)\n",
    "pipe = make_pipeline(\n",
    "    StandardScaler(),\n",
    "    LogisticRegression(n_jobs=-2, solver=\"saga\", random_state=1),\n",
    ")\n",
    "pipe.fit(X_train, y_train)\n",
    "Pipeline(\n",
    "    steps=[\n",
    "        (\"standardscaler\", StandardScaler()),\n",
    "        (\"logisticregression\", LogisticRegression()),\n",
    "    ]\n",
    ")\n",
    "print(\"На трайне\", pipe.score(X_train, y_train) * 100)\n",
    "print(\"На вадидации\", pipe.score(X_test, y_test) * 100)\n",
    "# На трайне 14.45554147723038\n",
    "# На вадидации 7.375514788468738"
   ]
  },
  {
   "cell_type": "code",
   "execution_count": 23,
   "id": "bfe02b50-294b-4d5e-ae6f-a59a43463418",
   "metadata": {
    "collapsed": true,
    "jupyter": {
     "outputs_hidden": true
    },
    "tags": []
   },
   "outputs": [
    {
     "name": "stdout",
     "output_type": "stream",
     "text": [
      "              precision    recall  f1-score   support\n",
      "\n",
      "           0       0.06      0.00      0.01       456\n",
      "           1       0.27      0.06      0.10       557\n",
      "           2       0.00      0.00      0.00        39\n",
      "           3       0.31      0.06      0.09       286\n",
      "           4       0.00      0.00      0.00         0\n",
      "           5       0.00      0.00      0.00         6\n",
      "           6       0.00      0.00      0.00       571\n",
      "           8       0.00      0.00      0.00        14\n",
      "           9       0.00      0.00      0.00       238\n",
      "          10       0.00      0.00      0.00        17\n",
      "          11       0.00      0.00      0.00       363\n",
      "          12       0.06      0.23      0.10       519\n",
      "          14       0.00      0.00      0.00       316\n",
      "          15       0.06      0.25      0.10       459\n",
      "          17       0.00      0.00      0.00       482\n",
      "          18       0.00      0.05      0.01        37\n",
      "          19       0.08      0.06      0.07       375\n",
      "          21       0.00      0.00      0.00         5\n",
      "          22       0.00      0.00      0.00        29\n",
      "          23       0.00      0.00      0.00       204\n",
      "          24       0.20      0.03      0.05       191\n",
      "          25       0.00      0.00      0.00        81\n",
      "          26       0.12      0.07      0.09        83\n",
      "          27       0.00      0.00      0.00         8\n",
      "          29       0.00      0.00      0.00       246\n",
      "          30       0.00      0.00      0.00        10\n",
      "          31       0.00      0.00      0.00         1\n",
      "          32       0.03      0.01      0.01       430\n",
      "          33       0.11      0.02      0.03       487\n",
      "          34       0.00      0.00      0.00        14\n",
      "          35       0.00      0.00      0.00       523\n",
      "          36       0.00      0.00      0.00        16\n",
      "          37       0.08      0.26      0.12       613\n",
      "          38       0.00      0.00      0.00        13\n",
      "          39       0.14      0.00      0.01       405\n",
      "          41       0.00      0.00      0.00       124\n",
      "          43       0.00      0.00      0.00       124\n",
      "          44       0.00      0.00      0.00         4\n",
      "          46       0.25      0.02      0.04       179\n",
      "          47       0.00      0.00      0.00        89\n",
      "          48       0.00      0.00      0.00        85\n",
      "          49       0.10      0.08      0.09       427\n",
      "          50       0.00      0.00      0.00       291\n",
      "          51       0.00      0.00      0.00         3\n",
      "          53       0.00      0.00      0.00        14\n",
      "          54       0.00      0.00      0.00       388\n",
      "          55       0.14      0.31      0.19       796\n",
      "          56       0.00      0.00      0.00        58\n",
      "          57       0.00      0.00      0.00         8\n",
      "\n",
      "    accuracy                           0.07     10684\n",
      "   macro avg       0.04      0.03      0.02     10684\n",
      "weighted avg       0.07      0.07      0.05     10684\n",
      "\n"
     ]
    }
   ],
   "source": [
    "# В валидационной выборке больше 700 истинных предсказаний?\n",
    "print(classification_report(y_test, pipe.predict(X_test)))"
   ]
  },
  {
   "cell_type": "code",
   "execution_count": 20,
   "id": "4e739863-0555-48ad-8040-e9068e27dc1f",
   "metadata": {
    "tags": []
   },
   "outputs": [
    {
     "name": "stdout",
     "output_type": "stream",
     "text": [
      "[ 0.00436534 -0.02867387  0.15878652 -0.07313598 -0.25553347 -0.14738372\n",
      " -0.06626029]\n"
     ]
    }
   ],
   "source": [
    "# user1 чаще всего приходит в четверг?\n",
    "print(pipe.named_steps[\"logisticregression\"].coef_[0][5:12])"
   ]
  },
  {
   "cell_type": "markdown",
   "id": "fa15be78-f08f-4697-880f-fe0b71a8f33d",
   "metadata": {
    "tags": []
   },
   "source": [
    "## Вопрос №6"
   ]
  },
  {
   "cell_type": "markdown",
   "id": "ea03b000-5ea6-4ccb-81d1-c66d6567f6b6",
   "metadata": {
    "jupyter": {
     "outputs_hidden": true
    },
    "tags": []
   },
   "source": [
    " Постройте логистическую регрессию на дефолтных параметрах и 50 признаках:\n",
    "    ['gate_-1', 'gate_0', 'gate_1', 'gate_3', 'gate_4', 'gate_5', 'gate_6', 'gate_7', 'gate_8', 'gate_9', 'gate_10', 'gate_11', 'gate_12', 'gate_13', 'gate_14', 'gate_15', 'gate_16', 'Monday', 'Tuesday', 'Wednesday', 'Thursday', 'Friday', 'Saturday', 'Sunday', 'month_7', 'month_8', 'month_9', 'month_10', 'month_11', 'month_12', 'hour_6', 'hour_7', 'hour_8', 'hour_9', 'hour_10', 'hour_11', 'hour_12', 'hour_13', 'hour_14', 'hour_15', 'hour_16', 'hour_17', 'hour_18', 'hour_19', 'hour_20', 'hour_21', 'hour_22', 'hour_23', 'min', 'day'].  Используем масштабирование StandardScaler."
   ]
  },
  {
   "cell_type": "code",
   "execution_count": 51,
   "id": "81b44a89-7b21-41cb-b608-bc6adc00f428",
   "metadata": {
    "tags": []
   },
   "outputs": [
    {
     "name": "stdout",
     "output_type": "stream",
     "text": [
      "<class 'pandas.core.frame.DataFrame'>\n",
      "Index: 37518 entries, 0 to 37517\n",
      "Data columns (total 53 columns):\n",
      " #   Column      Non-Null Count  Dtype         \n",
      "---  ------      --------------  -----         \n",
      " 0   user_id     37518 non-null  int64         \n",
      " 1   timestamp   37518 non-null  datetime64[ns]\n",
      " 2   minute      37518 non-null  int32         \n",
      " 3   day         37518 non-null  int32         \n",
      " 4   dayofweek   37518 non-null  int32         \n",
      " 5   Monday      37518 non-null  int64         \n",
      " 6   Tuesday     37518 non-null  int64         \n",
      " 7   Wednesday   37518 non-null  int64         \n",
      " 8   Thursday    37518 non-null  int64         \n",
      " 9   Friday      37518 non-null  int64         \n",
      " 10  Saturday    37518 non-null  int64         \n",
      " 11  Sunday      37518 non-null  int64         \n",
      " 12  gate_id_-1  37518 non-null  bool          \n",
      " 13  gate_id_0   37518 non-null  bool          \n",
      " 14  gate_id_1   37518 non-null  bool          \n",
      " 15  gate_id_3   37518 non-null  bool          \n",
      " 16  gate_id_4   37518 non-null  bool          \n",
      " 17  gate_id_5   37518 non-null  bool          \n",
      " 18  gate_id_6   37518 non-null  bool          \n",
      " 19  gate_id_7   37518 non-null  bool          \n",
      " 20  gate_id_8   37518 non-null  bool          \n",
      " 21  gate_id_9   37518 non-null  bool          \n",
      " 22  gate_id_10  37518 non-null  bool          \n",
      " 23  gate_id_11  37518 non-null  bool          \n",
      " 24  gate_id_12  37518 non-null  bool          \n",
      " 25  gate_id_13  37518 non-null  bool          \n",
      " 26  gate_id_14  37518 non-null  bool          \n",
      " 27  gate_id_15  37518 non-null  bool          \n",
      " 28  gate_id_16  37518 non-null  bool          \n",
      " 29  month_7     37518 non-null  bool          \n",
      " 30  month_8     37518 non-null  bool          \n",
      " 31  month_9     37518 non-null  bool          \n",
      " 32  month_10    37518 non-null  bool          \n",
      " 33  month_11    37518 non-null  bool          \n",
      " 34  month_12    37518 non-null  bool          \n",
      " 35  hour_6      37518 non-null  bool          \n",
      " 36  hour_7      37518 non-null  bool          \n",
      " 37  hour_8      37518 non-null  bool          \n",
      " 38  hour_9      37518 non-null  bool          \n",
      " 39  hour_10     37518 non-null  bool          \n",
      " 40  hour_11     37518 non-null  bool          \n",
      " 41  hour_12     37518 non-null  bool          \n",
      " 42  hour_13     37518 non-null  bool          \n",
      " 43  hour_14     37518 non-null  bool          \n",
      " 44  hour_15     37518 non-null  bool          \n",
      " 45  hour_16     37518 non-null  bool          \n",
      " 46  hour_17     37518 non-null  bool          \n",
      " 47  hour_18     37518 non-null  bool          \n",
      " 48  hour_19     37518 non-null  bool          \n",
      " 49  hour_20     37518 non-null  bool          \n",
      " 50  hour_21     37518 non-null  bool          \n",
      " 51  hour_22     37518 non-null  bool          \n",
      " 52  hour_23     37518 non-null  bool          \n",
      "dtypes: bool(41), datetime64[ns](1), int32(3), int64(8)\n",
      "memory usage: 4.8 MB\n"
     ]
    }
   ],
   "source": [
    "data_6 = pd.get_dummies(data_4, columns=[\"hour\"])\n",
    "data_6.info()"
   ]
  },
  {
   "cell_type": "code",
   "execution_count": 27,
   "id": "0241e484-04ee-467b-ac08-fa76c6864fa4",
   "metadata": {
    "tags": []
   },
   "outputs": [
    {
     "name": "stderr",
     "output_type": "stream",
     "text": [
      "/home/Nikolay/PycharmProjects/typnuket/venv/lib64/python3.11/site-packages/sklearn/linear_model/_logistic.py:458: ConvergenceWarning: lbfgs failed to converge (status=1):\n",
      "STOP: TOTAL NO. of ITERATIONS REACHED LIMIT.\n",
      "\n",
      "Increase the number of iterations (max_iter) or scale the data as shown in:\n",
      "    https://scikit-learn.org/stable/modules/preprocessing.html\n",
      "Please also refer to the documentation for alternative solver options:\n",
      "    https://scikit-learn.org/stable/modules/linear_model.html#logistic-regression\n",
      "  n_iter_i = _check_optimize_result(\n"
     ]
    },
    {
     "name": "stdout",
     "output_type": "stream",
     "text": [
      "lbfgs 0.09256832646948708\n",
      "liblinear 0.09481467615125422\n",
      "newton-cg 0.09247472856608012\n",
      "newton-cholesky 0.0943466866342194\n",
      "sag 0.09518906776488206\n",
      "saga 0.09556345937850992\n"
     ]
    }
   ],
   "source": [
    "X_train, X_test, y_train, y_test = data_stlit_to_train_test(df=data_6)\n",
    "lst = [\"lbfgs\", \"liblinear\", \"newton-cg\", \"newton-cholesky\", \"sag\", \"saga\"]\n",
    "\n",
    "for i in lst:\n",
    "    pipe = make_pipeline(\n",
    "        StandardScaler(),\n",
    "        LogisticRegression(n_jobs=-2, solver=i, max_iter=100, random_state=1),\n",
    "    )\n",
    "    pipe.fit(X_train, y_train)  # apply scaling on training data\n",
    "    Pipeline(\n",
    "        steps=[\n",
    "            (\"standardscaler\", StandardScaler()),\n",
    "            (\"logisticregression\", LogisticRegression()),\n",
    "        ]\n",
    "    )\n",
    "    print(i, pipe.score(X_test, y_test))"
   ]
  },
  {
   "cell_type": "code",
   "execution_count": 34,
   "id": "099e97e7-21b1-4607-b0f5-778965bc0765",
   "metadata": {
    "tags": []
   },
   "outputs": [
    {
     "name": "stdout",
     "output_type": "stream",
     "text": [
      "На обучающей 17.421927405530298\n",
      "На вадидации 9.603144889554475\n"
     ]
    }
   ],
   "source": [
    "pipe = make_pipeline(\n",
    "    StandardScaler(),\n",
    "    LogisticRegression(\n",
    "        n_jobs=-2,\n",
    "        solver=\"saga\",\n",
    "        max_iter=80,\n",
    "        random_state=1\n",
    "        # , C=0.6\n",
    "        # , class_weight='balanced'\n",
    "    ),\n",
    ")\n",
    "pipe.fit(X_train, y_train)  # apply scaling on training data\n",
    "Pipeline(\n",
    "    steps=[\n",
    "        (\"standardscaler\", StandardScaler()),\n",
    "        (\"logisticregression\", LogisticRegression()),\n",
    "    ]\n",
    ")\n",
    "print(\"На обучающей\", pipe.score(X_train, y_train) * 100)\n",
    "print(\"На вадидации\", pipe.score(X_test, y_test) * 100)\n",
    "# На обучающей 17.40702094357904\n",
    "# На вадидации 9.556345937850992"
   ]
  },
  {
   "cell_type": "markdown",
   "id": "120cea0a-4308-48fd-969e-df552cb6c956",
   "metadata": {
    "tags": []
   },
   "source": [
    "## Вопрос №9"
   ]
  },
  {
   "cell_type": "markdown",
   "id": "11377860-2141-444f-87b0-f8bc8d473e87",
   "metadata": {},
   "source": [
    "Улучшится ли качество модели на валидационной выборке, если в качестве признаков использовать предыдущее наблюдение?\n",
    "Оцените для регрессии из Q6 и оптимизатора saga (random_state = 1)?"
   ]
  },
  {
   "cell_type": "code",
   "execution_count": 44,
   "id": "3110a681-4ff8-461d-8824-b651c6950f1a",
   "metadata": {},
   "outputs": [
    {
     "data": {
      "text/html": [
       "<div>\n",
       "<style scoped>\n",
       "    .dataframe tbody tr th:only-of-type {\n",
       "        vertical-align: middle;\n",
       "    }\n",
       "\n",
       "    .dataframe tbody tr th {\n",
       "        vertical-align: top;\n",
       "    }\n",
       "\n",
       "    .dataframe thead th {\n",
       "        text-align: right;\n",
       "    }\n",
       "</style>\n",
       "<table border=\"1\" class=\"dataframe\">\n",
       "  <thead>\n",
       "    <tr style=\"text-align: right;\">\n",
       "      <th></th>\n",
       "      <th>user_id</th>\n",
       "      <th>timestamp</th>\n",
       "      <th>minute</th>\n",
       "      <th>day</th>\n",
       "      <th>dayofweek</th>\n",
       "      <th>Monday</th>\n",
       "      <th>Tuesday</th>\n",
       "      <th>Wednesday</th>\n",
       "      <th>Thursday</th>\n",
       "      <th>Friday</th>\n",
       "      <th>...</th>\n",
       "      <th>hour_15</th>\n",
       "      <th>hour_16</th>\n",
       "      <th>hour_17</th>\n",
       "      <th>hour_18</th>\n",
       "      <th>hour_19</th>\n",
       "      <th>hour_20</th>\n",
       "      <th>hour_21</th>\n",
       "      <th>hour_22</th>\n",
       "      <th>hour_23</th>\n",
       "      <th>user_id_lag_1</th>\n",
       "    </tr>\n",
       "    <tr>\n",
       "      <th>row_id</th>\n",
       "      <th></th>\n",
       "      <th></th>\n",
       "      <th></th>\n",
       "      <th></th>\n",
       "      <th></th>\n",
       "      <th></th>\n",
       "      <th></th>\n",
       "      <th></th>\n",
       "      <th></th>\n",
       "      <th></th>\n",
       "      <th></th>\n",
       "      <th></th>\n",
       "      <th></th>\n",
       "      <th></th>\n",
       "      <th></th>\n",
       "      <th></th>\n",
       "      <th></th>\n",
       "      <th></th>\n",
       "      <th></th>\n",
       "      <th></th>\n",
       "      <th></th>\n",
       "    </tr>\n",
       "  </thead>\n",
       "  <tbody>\n",
       "    <tr>\n",
       "      <th>0</th>\n",
       "      <td>18</td>\n",
       "      <td>2022-07-29 09:08:54</td>\n",
       "      <td>8</td>\n",
       "      <td>29</td>\n",
       "      <td>4</td>\n",
       "      <td>0</td>\n",
       "      <td>0</td>\n",
       "      <td>0</td>\n",
       "      <td>0</td>\n",
       "      <td>1</td>\n",
       "      <td>...</td>\n",
       "      <td>False</td>\n",
       "      <td>False</td>\n",
       "      <td>False</td>\n",
       "      <td>False</td>\n",
       "      <td>False</td>\n",
       "      <td>False</td>\n",
       "      <td>False</td>\n",
       "      <td>False</td>\n",
       "      <td>False</td>\n",
       "      <td>NaN</td>\n",
       "    </tr>\n",
       "    <tr>\n",
       "      <th>1</th>\n",
       "      <td>18</td>\n",
       "      <td>2022-07-29 09:09:54</td>\n",
       "      <td>9</td>\n",
       "      <td>29</td>\n",
       "      <td>4</td>\n",
       "      <td>0</td>\n",
       "      <td>0</td>\n",
       "      <td>0</td>\n",
       "      <td>0</td>\n",
       "      <td>1</td>\n",
       "      <td>...</td>\n",
       "      <td>False</td>\n",
       "      <td>False</td>\n",
       "      <td>False</td>\n",
       "      <td>False</td>\n",
       "      <td>False</td>\n",
       "      <td>False</td>\n",
       "      <td>False</td>\n",
       "      <td>False</td>\n",
       "      <td>False</td>\n",
       "      <td>18.0</td>\n",
       "    </tr>\n",
       "    <tr>\n",
       "      <th>2</th>\n",
       "      <td>18</td>\n",
       "      <td>2022-07-29 09:09:54</td>\n",
       "      <td>9</td>\n",
       "      <td>29</td>\n",
       "      <td>4</td>\n",
       "      <td>0</td>\n",
       "      <td>0</td>\n",
       "      <td>0</td>\n",
       "      <td>0</td>\n",
       "      <td>1</td>\n",
       "      <td>...</td>\n",
       "      <td>False</td>\n",
       "      <td>False</td>\n",
       "      <td>False</td>\n",
       "      <td>False</td>\n",
       "      <td>False</td>\n",
       "      <td>False</td>\n",
       "      <td>False</td>\n",
       "      <td>False</td>\n",
       "      <td>False</td>\n",
       "      <td>18.0</td>\n",
       "    </tr>\n",
       "  </tbody>\n",
       "</table>\n",
       "<p>3 rows × 54 columns</p>\n",
       "</div>"
      ],
      "text/plain": [
       "        user_id           timestamp  minute  day  dayofweek  Monday  Tuesday   \n",
       "row_id                                                                         \n",
       "0            18 2022-07-29 09:08:54       8   29          4       0        0  \\\n",
       "1            18 2022-07-29 09:09:54       9   29          4       0        0   \n",
       "2            18 2022-07-29 09:09:54       9   29          4       0        0   \n",
       "\n",
       "        Wednesday  Thursday  Friday  ...  hour_15  hour_16  hour_17  hour_18   \n",
       "row_id                               ...                                       \n",
       "0               0         0       1  ...    False    False    False    False  \\\n",
       "1               0         0       1  ...    False    False    False    False   \n",
       "2               0         0       1  ...    False    False    False    False   \n",
       "\n",
       "        hour_19  hour_20  hour_21  hour_22  hour_23  user_id_lag_1  \n",
       "row_id                                                              \n",
       "0         False    False    False    False    False            NaN  \n",
       "1         False    False    False    False    False           18.0  \n",
       "2         False    False    False    False    False           18.0  \n",
       "\n",
       "[3 rows x 54 columns]"
      ]
     },
     "execution_count": 44,
     "metadata": {},
     "output_type": "execute_result"
    }
   ],
   "source": [
    "data_9 = data_6\n",
    "data_9.head(3)"
   ]
  },
  {
   "cell_type": "code",
   "execution_count": 45,
   "id": "52be6a12-eb23-4ed3-b487-e5adce6f943c",
   "metadata": {
    "tags": []
   },
   "outputs": [
    {
     "data": {
      "text/html": [
       "<div>\n",
       "<style scoped>\n",
       "    .dataframe tbody tr th:only-of-type {\n",
       "        vertical-align: middle;\n",
       "    }\n",
       "\n",
       "    .dataframe tbody tr th {\n",
       "        vertical-align: top;\n",
       "    }\n",
       "\n",
       "    .dataframe thead th {\n",
       "        text-align: right;\n",
       "    }\n",
       "</style>\n",
       "<table border=\"1\" class=\"dataframe\">\n",
       "  <thead>\n",
       "    <tr style=\"text-align: right;\">\n",
       "      <th></th>\n",
       "      <th>user_id</th>\n",
       "      <th>timestamp</th>\n",
       "      <th>minute</th>\n",
       "      <th>day</th>\n",
       "      <th>dayofweek</th>\n",
       "      <th>Monday</th>\n",
       "      <th>Tuesday</th>\n",
       "      <th>Wednesday</th>\n",
       "      <th>Thursday</th>\n",
       "      <th>Friday</th>\n",
       "      <th>...</th>\n",
       "      <th>hour_15</th>\n",
       "      <th>hour_16</th>\n",
       "      <th>hour_17</th>\n",
       "      <th>hour_18</th>\n",
       "      <th>hour_19</th>\n",
       "      <th>hour_20</th>\n",
       "      <th>hour_21</th>\n",
       "      <th>hour_22</th>\n",
       "      <th>hour_23</th>\n",
       "      <th>user_id_lag_1</th>\n",
       "    </tr>\n",
       "    <tr>\n",
       "      <th>row_id</th>\n",
       "      <th></th>\n",
       "      <th></th>\n",
       "      <th></th>\n",
       "      <th></th>\n",
       "      <th></th>\n",
       "      <th></th>\n",
       "      <th></th>\n",
       "      <th></th>\n",
       "      <th></th>\n",
       "      <th></th>\n",
       "      <th></th>\n",
       "      <th></th>\n",
       "      <th></th>\n",
       "      <th></th>\n",
       "      <th></th>\n",
       "      <th></th>\n",
       "      <th></th>\n",
       "      <th></th>\n",
       "      <th></th>\n",
       "      <th></th>\n",
       "      <th></th>\n",
       "    </tr>\n",
       "  </thead>\n",
       "  <tbody>\n",
       "    <tr>\n",
       "      <th>1</th>\n",
       "      <td>18</td>\n",
       "      <td>2022-07-29 09:09:54</td>\n",
       "      <td>9</td>\n",
       "      <td>29</td>\n",
       "      <td>4</td>\n",
       "      <td>0</td>\n",
       "      <td>0</td>\n",
       "      <td>0</td>\n",
       "      <td>0</td>\n",
       "      <td>1</td>\n",
       "      <td>...</td>\n",
       "      <td>False</td>\n",
       "      <td>False</td>\n",
       "      <td>False</td>\n",
       "      <td>False</td>\n",
       "      <td>False</td>\n",
       "      <td>False</td>\n",
       "      <td>False</td>\n",
       "      <td>False</td>\n",
       "      <td>False</td>\n",
       "      <td>18.0</td>\n",
       "    </tr>\n",
       "    <tr>\n",
       "      <th>2</th>\n",
       "      <td>18</td>\n",
       "      <td>2022-07-29 09:09:54</td>\n",
       "      <td>9</td>\n",
       "      <td>29</td>\n",
       "      <td>4</td>\n",
       "      <td>0</td>\n",
       "      <td>0</td>\n",
       "      <td>0</td>\n",
       "      <td>0</td>\n",
       "      <td>1</td>\n",
       "      <td>...</td>\n",
       "      <td>False</td>\n",
       "      <td>False</td>\n",
       "      <td>False</td>\n",
       "      <td>False</td>\n",
       "      <td>False</td>\n",
       "      <td>False</td>\n",
       "      <td>False</td>\n",
       "      <td>False</td>\n",
       "      <td>False</td>\n",
       "      <td>18.0</td>\n",
       "    </tr>\n",
       "  </tbody>\n",
       "</table>\n",
       "<p>2 rows × 54 columns</p>\n",
       "</div>"
      ],
      "text/plain": [
       "        user_id           timestamp  minute  day  dayofweek  Monday  Tuesday   \n",
       "row_id                                                                         \n",
       "1            18 2022-07-29 09:09:54       9   29          4       0        0  \\\n",
       "2            18 2022-07-29 09:09:54       9   29          4       0        0   \n",
       "\n",
       "        Wednesday  Thursday  Friday  ...  hour_15  hour_16  hour_17  hour_18   \n",
       "row_id                               ...                                       \n",
       "1               0         0       1  ...    False    False    False    False  \\\n",
       "2               0         0       1  ...    False    False    False    False   \n",
       "\n",
       "        hour_19  hour_20  hour_21  hour_22  hour_23  user_id_lag_1  \n",
       "row_id                                                              \n",
       "1         False    False    False    False    False           18.0  \n",
       "2         False    False    False    False    False           18.0  \n",
       "\n",
       "[2 rows x 54 columns]"
      ]
     },
     "execution_count": 45,
     "metadata": {},
     "output_type": "execute_result"
    }
   ],
   "source": [
    "data_9[\"user_id_lag_1\"] = data_9[\"user_id\"].shift(1)\n",
    "data_9 = data_9.dropna(subset=[\"user_id_lag_1\"])\n",
    "data_9.head(2)"
   ]
  },
  {
   "cell_type": "code",
   "execution_count": 46,
   "id": "e8e29c02-342f-4fff-94fb-c4139160e65d",
   "metadata": {
    "tags": []
   },
   "outputs": [
    {
     "name": "stdout",
     "output_type": "stream",
     "text": [
      "На обучающей 22.472328848805574\n",
      "На вадидации 14.610632721827029\n"
     ]
    }
   ],
   "source": [
    "X_train, X_test, y_train, y_test = data_stlit_to_train_test(df=data_9)\n",
    "pipe = make_pipeline(\n",
    "    StandardScaler(),\n",
    "    LogisticRegression(n_jobs=-2, solver=\"saga\", random_state=1),\n",
    ")\n",
    "pipe.fit(X_train, y_train)  # apply scaling on training data\n",
    "Pipeline(\n",
    "    steps=[\n",
    "        (\"standardscaler\", StandardScaler()),\n",
    "        (\"logisticregression\", LogisticRegression()),\n",
    "    ]\n",
    ")\n",
    "print(\"На обучающей\", pipe.score(X_train, y_train) * 100)\n",
    "print(\"На вадидации\", pipe.score(X_test, y_test) * 100)"
   ]
  },
  {
   "cell_type": "markdown",
   "id": "c93f85a0-f302-4747-a7fd-7e5041a7cdb6",
   "metadata": {},
   "source": [
    "## Вопрос №10"
   ]
  },
  {
   "cell_type": "markdown",
   "id": "e34062f9-ae4d-4f58-85c8-773db0bf460c",
   "metadata": {},
   "source": [
    "Проверьте, помогает ли качеству регрессии из Q6 и оптимизатора saga больше данных,\n",
    "оцените разницу между 60%, 80% и 100% от train"
   ]
  },
  {
   "cell_type": "code",
   "execution_count": 52,
   "id": "12984331-59f9-41db-83aa-68646b641f16",
   "metadata": {
    "tags": []
   },
   "outputs": [
    {
     "data": {
      "text/plain": [
       "26834"
      ]
     },
     "execution_count": 52,
     "metadata": {},
     "output_type": "execute_result"
    }
   ],
   "source": [
    "y_train.count()\n",
    "# 60% = 16129"
   ]
  },
  {
   "cell_type": "code",
   "execution_count": 53,
   "id": "35ffa45a-be2d-4993-8818-8d4e96a04f11",
   "metadata": {
    "tags": []
   },
   "outputs": [
    {
     "name": "stdout",
     "output_type": "stream",
     "text": [
      "На обучающей 17.40702094357904\n",
      "На вадидации 9.556345937850992\n"
     ]
    }
   ],
   "source": [
    "X_train, X_test, y_train, y_test = data_stlit_to_train_test(df=data_6)\n",
    "pipe = make_pipeline(\n",
    "    StandardScaler(),\n",
    "    LogisticRegression(n_jobs=-2, solver=\"saga\", random_state=1),\n",
    ")\n",
    "pipe.fit(X_train, y_train)  # apply scaling on training data\n",
    "Pipeline(\n",
    "    steps=[\n",
    "        (\"standardscaler\", StandardScaler()),\n",
    "        (\"logisticregression\", LogisticRegression()),\n",
    "    ]\n",
    ")\n",
    "print(\"На обучающей\", pipe.score(X_train, y_train) * 100)\n",
    "print(\"На вадидации\", pipe.score(X_test, y_test) * 100)"
   ]
  },
  {
   "cell_type": "code",
   "execution_count": 54,
   "id": "1bc292fb-9f61-42f9-9e53-e4b8beb0965e",
   "metadata": {
    "tags": []
   },
   "outputs": [
    {
     "name": "stdout",
     "output_type": "stream",
     "text": [
      "На обучающей 15.834389207721546\n",
      "На вадидации 8.545488581055784\n"
     ]
    }
   ],
   "source": [
    "pipe = make_pipeline(\n",
    "    StandardScaler(),\n",
    "    LogisticRegression(n_jobs=-2, solver=\"saga\", random_state=1),\n",
    ")\n",
    "pipe.fit(\n",
    "    X_train.iloc[:16129], y_train.iloc[:16129]\n",
    ")  # apply scaling on training data\n",
    "Pipeline(\n",
    "    steps=[\n",
    "        (\"standardscaler\", StandardScaler()),\n",
    "        (\"logisticregression\", LogisticRegression()),\n",
    "    ]\n",
    ")\n",
    "print(\"На обучающей\", pipe.score(X_train, y_train) * 100)\n",
    "print(\"На вадидации\", pipe.score(X_test, y_test) * 100)"
   ]
  },
  {
   "cell_type": "code",
   "execution_count": null,
   "id": "905e2d88-7905-4791-a9ba-00a6d9a55d7c",
   "metadata": {},
   "outputs": [],
   "source": []
  }
 ],
 "metadata": {
  "kernelspec": {
   "display_name": "Python 3 (ipykernel)",
   "language": "python",
   "name": "python3"
  },
  "language_info": {
   "codemirror_mode": {
    "name": "ipython",
    "version": 3
   },
   "file_extension": ".py",
   "mimetype": "text/x-python",
   "name": "python",
   "nbconvert_exporter": "python",
   "pygments_lexer": "ipython3",
   "version": "3.11.2"
  }
 },
 "nbformat": 4,
 "nbformat_minor": 5
}
