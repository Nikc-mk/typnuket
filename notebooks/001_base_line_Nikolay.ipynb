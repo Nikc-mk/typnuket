{
 "cells": [
  {
   "cell_type": "code",
   "execution_count": 1,
   "id": "6aa42393-3edd-43ef-a419-d4a855d716ed",
   "metadata": {
    "tags": []
   },
   "outputs": [],
   "source": [
    "import pandas as pd\n",
    "import numpy as np\n",
    "import os\n",
    "import warnings\n",
    "\n",
    "warnings.filterwarnings(\"ignore\")\n",
    "from sklearn.linear_model import LogisticRegression\n",
    "from sklearn.pipeline import Pipeline\n",
    "from sklearn.pipeline import make_pipeline\n",
    "from sklearn.preprocessing import StandardScaler\n",
    "from sklearn.model_selection import train_test_split\n",
    "from sklearn import preprocessing\n",
    "from sklearn.model_selection import learning_curve\n",
    "from sklearn.model_selection import validation_curve\n",
    "from sklearn.metrics import classification_report\n",
    "from time import time"
   ]
  },
  {
   "cell_type": "code",
   "execution_count": 2,
   "id": "93772bcc-1880-4f2a-bbe2-08fa40a7a4d5",
   "metadata": {
    "tags": []
   },
   "outputs": [
    {
     "name": "stdout",
     "output_type": "stream",
     "text": [
      "<class 'pandas.core.frame.DataFrame'>\n",
      "Index: 37518 entries, 0 to 37517\n",
      "Data columns (total 3 columns):\n",
      " #   Column     Non-Null Count  Dtype         \n",
      "---  ------     --------------  -----         \n",
      " 0   user_id    37518 non-null  int64         \n",
      " 1   timestamp  37518 non-null  datetime64[ns]\n",
      " 2   gate_id    37518 non-null  int64         \n",
      "dtypes: datetime64[ns](1), int64(2)\n",
      "memory usage: 1.1 MB\n"
     ]
    }
   ],
   "source": [
    "# Прочитаем данные, переведем timestamp в формат datetime64, изначально он считывается как object\n",
    "data = pd.read_csv(\"../data/raw/train.csv\", index_col=\"row_id\")\n",
    "data[\"timestamp\"] = data[\"timestamp\"].astype(\"datetime64[ns]\")\n",
    "data.info()"
   ]
  },
  {
   "cell_type": "code",
   "execution_count": 3,
   "id": "06c5b797-cea5-4a77-86f9-c03f577233c7",
   "metadata": {
    "tags": []
   },
   "outputs": [
    {
     "name": "stdout",
     "output_type": "stream",
     "text": [
      "<class 'pandas.core.frame.DataFrame'>\n",
      "Index: 37512 entries, 0 to 37517\n",
      "Data columns (total 3 columns):\n",
      " #   Column     Non-Null Count  Dtype         \n",
      "---  ------     --------------  -----         \n",
      " 0   user_id    37512 non-null  int64         \n",
      " 1   timestamp  37512 non-null  datetime64[ns]\n",
      " 2   gate_id    37512 non-null  int64         \n",
      "dtypes: datetime64[ns](1), int64(2)\n",
      "memory usage: 1.1 MB\n"
     ]
    }
   ],
   "source": [
    "# очитска данных\n",
    "data = data[(data[\"gate_id\"] != 0)]\n",
    "data = data[(data[\"gate_id\"] != 16)]\n",
    "data.info()"
   ]
  },
  {
   "cell_type": "code",
   "execution_count": 4,
   "id": "2ae0e67b-fcbe-4553-996f-fd60948dd080",
   "metadata": {
    "tags": []
   },
   "outputs": [
    {
     "data": {
      "text/html": [
       "<div>\n",
       "<style scoped>\n",
       "    .dataframe tbody tr th:only-of-type {\n",
       "        vertical-align: middle;\n",
       "    }\n",
       "\n",
       "    .dataframe tbody tr th {\n",
       "        vertical-align: top;\n",
       "    }\n",
       "\n",
       "    .dataframe thead th {\n",
       "        text-align: right;\n",
       "    }\n",
       "</style>\n",
       "<table border=\"1\" class=\"dataframe\">\n",
       "  <thead>\n",
       "    <tr style=\"text-align: right;\">\n",
       "      <th></th>\n",
       "      <th>user_id</th>\n",
       "      <th>timestamp</th>\n",
       "      <th>gate_id</th>\n",
       "      <th>hour</th>\n",
       "      <th>minute</th>\n",
       "      <th>second</th>\n",
       "      <th>day</th>\n",
       "      <th>dayofweek</th>\n",
       "      <th>is_weekend</th>\n",
       "    </tr>\n",
       "    <tr>\n",
       "      <th>row_id</th>\n",
       "      <th></th>\n",
       "      <th></th>\n",
       "      <th></th>\n",
       "      <th></th>\n",
       "      <th></th>\n",
       "      <th></th>\n",
       "      <th></th>\n",
       "      <th></th>\n",
       "      <th></th>\n",
       "    </tr>\n",
       "  </thead>\n",
       "  <tbody>\n",
       "    <tr>\n",
       "      <th>37513</th>\n",
       "      <td>6</td>\n",
       "      <td>2022-12-31 20:38:56</td>\n",
       "      <td>11</td>\n",
       "      <td>20</td>\n",
       "      <td>38</td>\n",
       "      <td>56</td>\n",
       "      <td>31</td>\n",
       "      <td>5</td>\n",
       "      <td>1</td>\n",
       "    </tr>\n",
       "    <tr>\n",
       "      <th>37514</th>\n",
       "      <td>6</td>\n",
       "      <td>2022-12-31 20:39:22</td>\n",
       "      <td>6</td>\n",
       "      <td>20</td>\n",
       "      <td>39</td>\n",
       "      <td>22</td>\n",
       "      <td>31</td>\n",
       "      <td>5</td>\n",
       "      <td>1</td>\n",
       "    </tr>\n",
       "    <tr>\n",
       "      <th>37515</th>\n",
       "      <td>6</td>\n",
       "      <td>2022-12-31 20:39:23</td>\n",
       "      <td>6</td>\n",
       "      <td>20</td>\n",
       "      <td>39</td>\n",
       "      <td>23</td>\n",
       "      <td>31</td>\n",
       "      <td>5</td>\n",
       "      <td>1</td>\n",
       "    </tr>\n",
       "    <tr>\n",
       "      <th>37516</th>\n",
       "      <td>6</td>\n",
       "      <td>2022-12-31 20:39:31</td>\n",
       "      <td>9</td>\n",
       "      <td>20</td>\n",
       "      <td>39</td>\n",
       "      <td>31</td>\n",
       "      <td>31</td>\n",
       "      <td>5</td>\n",
       "      <td>1</td>\n",
       "    </tr>\n",
       "    <tr>\n",
       "      <th>37517</th>\n",
       "      <td>6</td>\n",
       "      <td>2022-12-31 20:39:31</td>\n",
       "      <td>9</td>\n",
       "      <td>20</td>\n",
       "      <td>39</td>\n",
       "      <td>31</td>\n",
       "      <td>31</td>\n",
       "      <td>5</td>\n",
       "      <td>1</td>\n",
       "    </tr>\n",
       "  </tbody>\n",
       "</table>\n",
       "</div>"
      ],
      "text/plain": [
       "        user_id           timestamp  gate_id  hour  minute  second  day   \n",
       "row_id                                                                    \n",
       "37513         6 2022-12-31 20:38:56       11    20      38      56   31  \\\n",
       "37514         6 2022-12-31 20:39:22        6    20      39      22   31   \n",
       "37515         6 2022-12-31 20:39:23        6    20      39      23   31   \n",
       "37516         6 2022-12-31 20:39:31        9    20      39      31   31   \n",
       "37517         6 2022-12-31 20:39:31        9    20      39      31   31   \n",
       "\n",
       "        dayofweek  is_weekend  \n",
       "row_id                         \n",
       "37513           5           1  \n",
       "37514           5           1  \n",
       "37515           5           1  \n",
       "37516           5           1  \n",
       "37517           5           1  "
      ]
     },
     "execution_count": 4,
     "metadata": {},
     "output_type": "execute_result"
    }
   ],
   "source": [
    "# создадим фичи для логистической регрессии на основе timestamp\n",
    "# часы\n",
    "data[\"hour\"] = data[\"timestamp\"].dt.hour\n",
    "# минуты\n",
    "data[\"minute\"] = data[\"timestamp\"].dt.minute\n",
    "data[\"second\"] = data[\"timestamp\"].dt.second\n",
    "# число\n",
    "data[\"day\"] = data[\"timestamp\"].dt.day\n",
    "# день недели\n",
    "data[\"dayofweek\"] = data[\"timestamp\"].dt.dayofweek\n",
    "# если выходной то 1, будни 0\n",
    "data[\"is_weekend\"] = data[\"dayofweek\"] > 4\n",
    "data[\"is_weekend\"] = data[\"is_weekend\"].apply(int)\n",
    "\n",
    "data = data[data[\"hour\"] != 6]\n",
    "\n",
    "data.tail(5)"
   ]
  },
  {
   "cell_type": "code",
   "execution_count": 5,
   "id": "ebd00077-adca-40fb-b913-3e89f175c82a",
   "metadata": {
    "tags": []
   },
   "outputs": [
    {
     "data": {
      "text/html": [
       "<div>\n",
       "<style scoped>\n",
       "    .dataframe tbody tr th:only-of-type {\n",
       "        vertical-align: middle;\n",
       "    }\n",
       "\n",
       "    .dataframe tbody tr th {\n",
       "        vertical-align: top;\n",
       "    }\n",
       "\n",
       "    .dataframe thead th {\n",
       "        text-align: right;\n",
       "    }\n",
       "</style>\n",
       "<table border=\"1\" class=\"dataframe\">\n",
       "  <thead>\n",
       "    <tr style=\"text-align: right;\">\n",
       "      <th></th>\n",
       "      <th>user_id</th>\n",
       "      <th>timestamp</th>\n",
       "      <th>gate_id</th>\n",
       "      <th>hour</th>\n",
       "      <th>minute</th>\n",
       "      <th>second</th>\n",
       "      <th>day</th>\n",
       "      <th>dayofweek</th>\n",
       "      <th>is_weekend</th>\n",
       "      <th>time_to_sec</th>\n",
       "    </tr>\n",
       "    <tr>\n",
       "      <th>row_id</th>\n",
       "      <th></th>\n",
       "      <th></th>\n",
       "      <th></th>\n",
       "      <th></th>\n",
       "      <th></th>\n",
       "      <th></th>\n",
       "      <th></th>\n",
       "      <th></th>\n",
       "      <th></th>\n",
       "      <th></th>\n",
       "    </tr>\n",
       "  </thead>\n",
       "  <tbody>\n",
       "    <tr>\n",
       "      <th>0</th>\n",
       "      <td>18</td>\n",
       "      <td>2022-07-29 09:08:54</td>\n",
       "      <td>7</td>\n",
       "      <td>9</td>\n",
       "      <td>8</td>\n",
       "      <td>54</td>\n",
       "      <td>29</td>\n",
       "      <td>4</td>\n",
       "      <td>0</td>\n",
       "      <td>32934</td>\n",
       "    </tr>\n",
       "    <tr>\n",
       "      <th>1</th>\n",
       "      <td>18</td>\n",
       "      <td>2022-07-29 09:09:54</td>\n",
       "      <td>9</td>\n",
       "      <td>9</td>\n",
       "      <td>9</td>\n",
       "      <td>54</td>\n",
       "      <td>29</td>\n",
       "      <td>4</td>\n",
       "      <td>0</td>\n",
       "      <td>32994</td>\n",
       "    </tr>\n",
       "    <tr>\n",
       "      <th>2</th>\n",
       "      <td>18</td>\n",
       "      <td>2022-07-29 09:09:54</td>\n",
       "      <td>9</td>\n",
       "      <td>9</td>\n",
       "      <td>9</td>\n",
       "      <td>54</td>\n",
       "      <td>29</td>\n",
       "      <td>4</td>\n",
       "      <td>0</td>\n",
       "      <td>32994</td>\n",
       "    </tr>\n",
       "    <tr>\n",
       "      <th>3</th>\n",
       "      <td>18</td>\n",
       "      <td>2022-07-29 09:10:06</td>\n",
       "      <td>5</td>\n",
       "      <td>9</td>\n",
       "      <td>10</td>\n",
       "      <td>6</td>\n",
       "      <td>29</td>\n",
       "      <td>4</td>\n",
       "      <td>0</td>\n",
       "      <td>33006</td>\n",
       "    </tr>\n",
       "    <tr>\n",
       "      <th>4</th>\n",
       "      <td>18</td>\n",
       "      <td>2022-07-29 09:10:08</td>\n",
       "      <td>5</td>\n",
       "      <td>9</td>\n",
       "      <td>10</td>\n",
       "      <td>8</td>\n",
       "      <td>29</td>\n",
       "      <td>4</td>\n",
       "      <td>0</td>\n",
       "      <td>33008</td>\n",
       "    </tr>\n",
       "    <tr>\n",
       "      <th>5</th>\n",
       "      <td>18</td>\n",
       "      <td>2022-07-29 09:10:34</td>\n",
       "      <td>10</td>\n",
       "      <td>9</td>\n",
       "      <td>10</td>\n",
       "      <td>34</td>\n",
       "      <td>29</td>\n",
       "      <td>4</td>\n",
       "      <td>0</td>\n",
       "      <td>33034</td>\n",
       "    </tr>\n",
       "    <tr>\n",
       "      <th>6</th>\n",
       "      <td>18</td>\n",
       "      <td>2022-07-29 09:32:47</td>\n",
       "      <td>11</td>\n",
       "      <td>9</td>\n",
       "      <td>32</td>\n",
       "      <td>47</td>\n",
       "      <td>29</td>\n",
       "      <td>4</td>\n",
       "      <td>0</td>\n",
       "      <td>34367</td>\n",
       "    </tr>\n",
       "    <tr>\n",
       "      <th>7</th>\n",
       "      <td>18</td>\n",
       "      <td>2022-07-29 09:33:12</td>\n",
       "      <td>4</td>\n",
       "      <td>9</td>\n",
       "      <td>33</td>\n",
       "      <td>12</td>\n",
       "      <td>29</td>\n",
       "      <td>4</td>\n",
       "      <td>0</td>\n",
       "      <td>34392</td>\n",
       "    </tr>\n",
       "    <tr>\n",
       "      <th>8</th>\n",
       "      <td>18</td>\n",
       "      <td>2022-07-29 09:33:13</td>\n",
       "      <td>4</td>\n",
       "      <td>9</td>\n",
       "      <td>33</td>\n",
       "      <td>13</td>\n",
       "      <td>29</td>\n",
       "      <td>4</td>\n",
       "      <td>0</td>\n",
       "      <td>34393</td>\n",
       "    </tr>\n",
       "    <tr>\n",
       "      <th>9</th>\n",
       "      <td>1</td>\n",
       "      <td>2022-07-29 09:33:16</td>\n",
       "      <td>7</td>\n",
       "      <td>9</td>\n",
       "      <td>33</td>\n",
       "      <td>16</td>\n",
       "      <td>29</td>\n",
       "      <td>4</td>\n",
       "      <td>0</td>\n",
       "      <td>34396</td>\n",
       "    </tr>\n",
       "  </tbody>\n",
       "</table>\n",
       "</div>"
      ],
      "text/plain": [
       "        user_id           timestamp  gate_id  hour  minute  second  day   \n",
       "row_id                                                                    \n",
       "0            18 2022-07-29 09:08:54        7     9       8      54   29  \\\n",
       "1            18 2022-07-29 09:09:54        9     9       9      54   29   \n",
       "2            18 2022-07-29 09:09:54        9     9       9      54   29   \n",
       "3            18 2022-07-29 09:10:06        5     9      10       6   29   \n",
       "4            18 2022-07-29 09:10:08        5     9      10       8   29   \n",
       "5            18 2022-07-29 09:10:34       10     9      10      34   29   \n",
       "6            18 2022-07-29 09:32:47       11     9      32      47   29   \n",
       "7            18 2022-07-29 09:33:12        4     9      33      12   29   \n",
       "8            18 2022-07-29 09:33:13        4     9      33      13   29   \n",
       "9             1 2022-07-29 09:33:16        7     9      33      16   29   \n",
       "\n",
       "        dayofweek  is_weekend  time_to_sec  \n",
       "row_id                                      \n",
       "0               4           0        32934  \n",
       "1               4           0        32994  \n",
       "2               4           0        32994  \n",
       "3               4           0        33006  \n",
       "4               4           0        33008  \n",
       "5               4           0        33034  \n",
       "6               4           0        34367  \n",
       "7               4           0        34392  \n",
       "8               4           0        34393  \n",
       "9               4           0        34396  "
      ]
     },
     "execution_count": 5,
     "metadata": {},
     "output_type": "execute_result"
    }
   ],
   "source": [
    "data[\"time_to_sec\"] = (\n",
    "    data[\"hour\"] * 3600 + data[\"minute\"] * 60 + data[\"second\"]\n",
    ")\n",
    "data.head(10)"
   ]
  },
  {
   "cell_type": "code",
   "execution_count": 6,
   "id": "9f38d772-39e3-4562-a92f-93b5cee958d0",
   "metadata": {
    "tags": []
   },
   "outputs": [
    {
     "name": "stdout",
     "output_type": "stream",
     "text": [
      "<class 'pandas.core.frame.DataFrame'>\n",
      "Index: 37506 entries, 0 to 37517\n",
      "Data columns (total 47 columns):\n",
      " #   Column       Non-Null Count  Dtype         \n",
      "---  ------       --------------  -----         \n",
      " 0   user_id      37506 non-null  int64         \n",
      " 1   timestamp    37506 non-null  datetime64[ns]\n",
      " 2   minute       37506 non-null  int32         \n",
      " 3   second       37506 non-null  int32         \n",
      " 4   day          37506 non-null  int32         \n",
      " 5   is_weekend   37506 non-null  int64         \n",
      " 6   time_to_sec  37506 non-null  int32         \n",
      " 7   dayweek      37506 non-null  int32         \n",
      " 8   dayofweek_0  37506 non-null  int8          \n",
      " 9   dayofweek_1  37506 non-null  int8          \n",
      " 10  dayofweek_2  37506 non-null  int8          \n",
      " 11  dayofweek_3  37506 non-null  int8          \n",
      " 12  dayofweek_4  37506 non-null  int8          \n",
      " 13  dayofweek_5  37506 non-null  int8          \n",
      " 14  dayofweek_6  37506 non-null  int8          \n",
      " 15  gate_id_-1   37506 non-null  int8          \n",
      " 16  gate_id_1    37506 non-null  int8          \n",
      " 17  gate_id_3    37506 non-null  int8          \n",
      " 18  gate_id_4    37506 non-null  int8          \n",
      " 19  gate_id_5    37506 non-null  int8          \n",
      " 20  gate_id_6    37506 non-null  int8          \n",
      " 21  gate_id_7    37506 non-null  int8          \n",
      " 22  gate_id_8    37506 non-null  int8          \n",
      " 23  gate_id_9    37506 non-null  int8          \n",
      " 24  gate_id_10   37506 non-null  int8          \n",
      " 25  gate_id_11   37506 non-null  int8          \n",
      " 26  gate_id_12   37506 non-null  int8          \n",
      " 27  gate_id_13   37506 non-null  int8          \n",
      " 28  gate_id_14   37506 non-null  int8          \n",
      " 29  gate_id_15   37506 non-null  int8          \n",
      " 30  hour_7       37506 non-null  int8          \n",
      " 31  hour_8       37506 non-null  int8          \n",
      " 32  hour_9       37506 non-null  int8          \n",
      " 33  hour_10      37506 non-null  int8          \n",
      " 34  hour_11      37506 non-null  int8          \n",
      " 35  hour_12      37506 non-null  int8          \n",
      " 36  hour_13      37506 non-null  int8          \n",
      " 37  hour_14      37506 non-null  int8          \n",
      " 38  hour_15      37506 non-null  int8          \n",
      " 39  hour_16      37506 non-null  int8          \n",
      " 40  hour_17      37506 non-null  int8          \n",
      " 41  hour_18      37506 non-null  int8          \n",
      " 42  hour_19      37506 non-null  int8          \n",
      " 43  hour_20      37506 non-null  int8          \n",
      " 44  hour_21      37506 non-null  int8          \n",
      " 45  hour_22      37506 non-null  int8          \n",
      " 46  hour_23      37506 non-null  int8          \n",
      "dtypes: datetime64[ns](1), int32(5), int64(2), int8(39)\n",
      "memory usage: 3.3 MB\n"
     ]
    }
   ],
   "source": [
    "data[\"dayweek\"] = data[\"dayofweek\"]\n",
    "data = pd.get_dummies(\n",
    "    data, columns=[\"dayofweek\", \"gate_id\", \"hour\"], dtype=\"int8\"\n",
    ")\n",
    "data.info()"
   ]
  },
  {
   "cell_type": "code",
   "execution_count": 7,
   "id": "3f5f6654-f5e1-45a5-9568-17d89beeb690",
   "metadata": {
    "tags": []
   },
   "outputs": [
    {
     "data": {
      "text/plain": [
       "Index(['minute', 'second', 'day', 'is_weekend', 'time_to_sec', 'dayweek',\n",
       "       'gate_id_-1', 'gate_id_1', 'gate_id_3', 'gate_id_4', 'gate_id_5',\n",
       "       'gate_id_6', 'gate_id_7', 'gate_id_8', 'gate_id_9', 'gate_id_10',\n",
       "       'gate_id_11', 'gate_id_12', 'gate_id_13', 'gate_id_14', 'gate_id_15',\n",
       "       'hour_7', 'hour_8', 'hour_9', 'hour_10', 'hour_11', 'hour_12',\n",
       "       'hour_13', 'hour_14', 'hour_15', 'hour_16', 'hour_17', 'hour_18',\n",
       "       'hour_19', 'hour_20', 'hour_21', 'hour_22', 'hour_23'],\n",
       "      dtype='object')"
      ]
     },
     "execution_count": 7,
     "metadata": {},
     "output_type": "execute_result"
    }
   ],
   "source": [
    "lst_feachers = data.drop(\n",
    "    columns=[\n",
    "        \"user_id\",\n",
    "        \"timestamp\",\n",
    "        \"dayofweek_0\",\n",
    "        \"dayofweek_1\",\n",
    "        \"dayofweek_2\",\n",
    "        \"dayofweek_3\",\n",
    "        \"dayofweek_4\",\n",
    "        \"dayofweek_5\",\n",
    "        \"dayofweek_6\",\n",
    "    ]\n",
    ").columns\n",
    "lst_feachers"
   ]
  },
  {
   "cell_type": "code",
   "execution_count": 8,
   "id": "f6aeda26-d4d3-428a-ab88-747183991b23",
   "metadata": {
    "tags": []
   },
   "outputs": [],
   "source": [
    "for i in lst_feachers:\n",
    "    for j in range(1, 5):\n",
    "        data[f\"{i}_lag_{j}\"] = data[f\"{i}\"].shift(j)"
   ]
  },
  {
   "cell_type": "code",
   "execution_count": 9,
   "id": "cf6327f7-0c15-42ee-9e0b-9960c5535ca0",
   "metadata": {
    "tags": []
   },
   "outputs": [],
   "source": [
    "data[\"diff_time_to_sec\"] = data[\"time_to_sec\"].diff(1)\n",
    "data[\"diff_time_to_sec_2\"] = data[\"time_to_sec\"].diff(2)\n",
    "data[\"diff_time_to_sec_3\"] = data[\"time_to_sec\"].diff(3)\n",
    "data[\"diff_time_to_sec_4\"] = data[\"time_to_sec\"].diff(4)\n",
    "\n",
    "data[\"diff_minute\"] = data[\"minute\"].diff(1)\n",
    "data[\"diff_minute_2\"] = data[\"minute\"].diff(2)\n",
    "data[\"diff_minute_3\"] = data[\"minute\"].diff(3)\n",
    "data[\"diff_minute_4\"] = data[\"minute\"].diff(4)"
   ]
  },
  {
   "cell_type": "code",
   "execution_count": 10,
   "id": "0c9b52ac-5f61-4a81-82a0-708303d49dda",
   "metadata": {
    "tags": []
   },
   "outputs": [
    {
     "name": "stdout",
     "output_type": "stream",
     "text": [
      "<class 'pandas.core.frame.DataFrame'>\n",
      "Index: 37502 entries, 4 to 37517\n",
      "Columns: 207 entries, user_id to diff_minute_4\n",
      "dtypes: datetime64[ns](1), float64(160), int32(5), int64(2), int8(39)\n",
      "memory usage: 49.0 MB\n"
     ]
    }
   ],
   "source": [
    "data.dropna(inplace=True)\n",
    "data.info()"
   ]
  },
  {
   "cell_type": "code",
   "execution_count": 11,
   "id": "8f2f3a61-e029-4d4f-8d4c-6919d14ee033",
   "metadata": {
    "tags": []
   },
   "outputs": [
    {
     "name": "stdout",
     "output_type": "stream",
     "text": [
      "16.563566552901023\n",
      "              precision    recall  f1-score   support\n",
      "\n",
      "           0       0.08      0.04      0.05       317\n",
      "           1       0.21      0.31      0.25       300\n",
      "           2       0.00      0.00      0.00        10\n",
      "           3       0.16      0.24      0.20       239\n",
      "           5       0.00      0.00      0.00         2\n",
      "           6       0.15      0.07      0.09       482\n",
      "           7       0.00      0.00      0.00        13\n",
      "           8       0.00      0.00      0.00         4\n",
      "           9       0.11      0.13      0.12       261\n",
      "          10       0.00      0.00      0.00         1\n",
      "          11       0.14      0.18      0.16       333\n",
      "          12       0.15      0.35      0.21       494\n",
      "          14       0.30      0.36      0.33       183\n",
      "          15       0.16      0.19      0.17       472\n",
      "          17       0.12      0.10      0.11       186\n",
      "          18       0.30      0.21      0.25       424\n",
      "          19       0.17      0.20      0.18       447\n",
      "          20       0.00      0.00      0.00        32\n",
      "          21       0.00      0.00      0.00         1\n",
      "          22       0.00      0.00      0.00        34\n",
      "          23       0.00      0.00      0.00        72\n",
      "          24       0.19      0.09      0.12       119\n",
      "          25       0.20      0.02      0.03        60\n",
      "          26       0.11      0.06      0.07        89\n",
      "          27       0.36      0.52      0.42       138\n",
      "          28       0.25      0.06      0.10        16\n",
      "          29       0.13      0.02      0.04       262\n",
      "          30       0.00      0.00      0.00         3\n",
      "          31       0.00      0.00      0.00        46\n",
      "          32       0.13      0.23      0.17       287\n",
      "          33       0.19      0.27      0.22       301\n",
      "          34       0.40      0.08      0.14        71\n",
      "          35       0.17      0.05      0.08       139\n",
      "          36       0.00      0.00      0.00         9\n",
      "          37       0.14      0.18      0.16       543\n",
      "          38       0.00      0.00      0.00         1\n",
      "          39       0.15      0.06      0.09       281\n",
      "          40       0.40      0.04      0.07        56\n",
      "          41       0.00      0.00      0.00        33\n",
      "          42       0.12      0.03      0.04        76\n",
      "          43       0.00      0.00      0.00        23\n",
      "          44       0.00      0.00      0.00         2\n",
      "          45       0.00      0.00      0.00        16\n",
      "          46       0.12      0.03      0.05       131\n",
      "          47       0.08      0.04      0.05       317\n",
      "          48       0.05      0.02      0.03       204\n",
      "          49       0.22      0.27      0.24       300\n",
      "          50       0.10      0.05      0.07       249\n",
      "          52       0.00      0.00      0.00         1\n",
      "          53       0.15      0.15      0.15       304\n",
      "          54       0.12      0.11      0.11       273\n",
      "          55       0.16      0.31      0.21       567\n",
      "          56       0.14      0.03      0.05        34\n",
      "          57       0.00      0.00      0.00       118\n",
      "\n",
      "    accuracy                           0.17      9376\n",
      "   macro avg       0.11      0.09      0.09      9376\n",
      "weighted avg       0.15      0.17      0.15      9376\n",
      "\n"
     ]
    }
   ],
   "source": [
    "X_train, X_test, y_train, y_test = train_test_split(\n",
    "    data.drop(columns=[\"user_id\", \"timestamp\"]),\n",
    "    data[\"user_id\"],\n",
    "    random_state=15,\n",
    ")\n",
    "pipe = make_pipeline(\n",
    "    StandardScaler(), LogisticRegression(n_jobs=-2, solver=\"saga\")\n",
    ")\n",
    "pipe.fit(X_train, y_train)\n",
    "Pipeline(\n",
    "    steps=[\n",
    "        (\"standardscaler\", StandardScaler()),\n",
    "        (\"logisticregression\", LogisticRegression()),\n",
    "    ]\n",
    ")\n",
    "print(pipe.score(X_test, y_test) * 100)\n",
    "print(classification_report(y_test, pipe.predict(X_test)))\n",
    "# 17.26196822688986"
   ]
  },
  {
   "cell_type": "code",
   "execution_count": 12,
   "id": "5348e9ab-896c-4cf7-86fc-a8889286ca7f",
   "metadata": {
    "tags": []
   },
   "outputs": [
    {
     "data": {
      "text/html": [
       "<div>\n",
       "<style scoped>\n",
       "    .dataframe tbody tr th:only-of-type {\n",
       "        vertical-align: middle;\n",
       "    }\n",
       "\n",
       "    .dataframe tbody tr th {\n",
       "        vertical-align: top;\n",
       "    }\n",
       "\n",
       "    .dataframe thead th {\n",
       "        text-align: right;\n",
       "    }\n",
       "</style>\n",
       "<table border=\"1\" class=\"dataframe\">\n",
       "  <thead>\n",
       "    <tr style=\"text-align: right;\">\n",
       "      <th></th>\n",
       "      <th>timestamp</th>\n",
       "      <th>gate_id</th>\n",
       "    </tr>\n",
       "    <tr>\n",
       "      <th>row_id</th>\n",
       "      <th></th>\n",
       "      <th></th>\n",
       "    </tr>\n",
       "  </thead>\n",
       "  <tbody>\n",
       "    <tr>\n",
       "      <th>37514</th>\n",
       "      <td>2023-01-02 20:39:22</td>\n",
       "      <td>6</td>\n",
       "    </tr>\n",
       "    <tr>\n",
       "      <th>37515</th>\n",
       "      <td>2023-01-02 20:39:23</td>\n",
       "      <td>6</td>\n",
       "    </tr>\n",
       "    <tr>\n",
       "      <th>37516</th>\n",
       "      <td>2023-01-02 20:39:31</td>\n",
       "      <td>9</td>\n",
       "    </tr>\n",
       "    <tr>\n",
       "      <th>37517</th>\n",
       "      <td>2023-01-02 20:39:31</td>\n",
       "      <td>9</td>\n",
       "    </tr>\n",
       "    <tr>\n",
       "      <th>37518</th>\n",
       "      <td>2023-01-03 08:21:00</td>\n",
       "      <td>9</td>\n",
       "    </tr>\n",
       "  </tbody>\n",
       "</table>\n",
       "</div>"
      ],
      "text/plain": [
       "                 timestamp  gate_id\n",
       "row_id                             \n",
       "37514  2023-01-02 20:39:22        6\n",
       "37515  2023-01-02 20:39:23        6\n",
       "37516  2023-01-02 20:39:31        9\n",
       "37517  2023-01-02 20:39:31        9\n",
       "37518  2023-01-03 08:21:00        9"
      ]
     },
     "execution_count": 12,
     "metadata": {},
     "output_type": "execute_result"
    }
   ],
   "source": [
    "data_predict = pd.read_csv(\n",
    "    \"../data/raw/test_plus_4_raw.csv\", index_col=\"row_id\"\n",
    ")\n",
    "data_predict[\"timestamp\"] = data_predict[\"timestamp\"].astype(\"datetime64[ns]\")\n",
    "data_predict.head()"
   ]
  },
  {
   "cell_type": "code",
   "execution_count": 13,
   "id": "8756111f-3d7c-4c1b-b303-d06e38dc96fa",
   "metadata": {
    "tags": []
   },
   "outputs": [
    {
     "name": "stdout",
     "output_type": "stream",
     "text": [
      "<class 'pandas.core.frame.DataFrame'>\n",
      "Index: 7129 entries, 37514 to 44642\n",
      "Columns: 210 entries, timestamp to diff_minute_4\n",
      "dtypes: datetime64[ns](1), float64(160), int32(5), int64(1), int8(43)\n",
      "memory usage: 9.3 MB\n"
     ]
    }
   ],
   "source": [
    "data_predict[\"hour\"] = data_predict[\"timestamp\"].dt.hour\n",
    "# минуты\n",
    "data_predict[\"minute\"] = data_predict[\"timestamp\"].dt.minute\n",
    "data_predict[\"second\"] = data_predict[\"timestamp\"].dt.second\n",
    "# число\n",
    "data_predict[\"day\"] = data_predict[\"timestamp\"].dt.day\n",
    "# день недели\n",
    "data_predict[\"dayofweek\"] = data_predict[\"timestamp\"].dt.dayofweek\n",
    "# если выходной то 1, будни 0\n",
    "data_predict[\"is_weekend\"] = data_predict[\"dayofweek\"] > 4\n",
    "data_predict[\"is_weekend\"] = data_predict[\"is_weekend\"].apply(int)\n",
    "\n",
    "data_predict[\"time_to_sec\"] = (\n",
    "    data_predict[\"hour\"] * 3600\n",
    "    + data_predict[\"minute\"] * 60\n",
    "    + data_predict[\"second\"]\n",
    ")\n",
    "\n",
    "data_predict[\"dayweek\"] = data_predict[\"dayofweek\"]\n",
    "data_predict = pd.get_dummies(\n",
    "    data_predict, columns=[\"dayofweek\", \"gate_id\", \"hour\"], dtype=\"int8\"\n",
    ")\n",
    "\n",
    "for i in lst_feachers:\n",
    "    for j in range(1, 5):\n",
    "        data_predict[f\"{i}_lag_{j}\"] = data_predict[f\"{i}\"].shift(j)\n",
    "\n",
    "data_predict[\"diff_time_to_sec\"] = data_predict[\"time_to_sec\"].diff(1)\n",
    "data_predict[\"diff_time_to_sec_2\"] = data_predict[\"time_to_sec\"].diff(2)\n",
    "data_predict[\"diff_time_to_sec_3\"] = data_predict[\"time_to_sec\"].diff(3)\n",
    "data_predict[\"diff_time_to_sec_4\"] = data_predict[\"time_to_sec\"].diff(4)\n",
    "\n",
    "data_predict[\"diff_minute\"] = data_predict[\"minute\"].diff(1)\n",
    "data_predict[\"diff_minute_2\"] = data_predict[\"minute\"].diff(2)\n",
    "data_predict[\"diff_minute_3\"] = data_predict[\"minute\"].diff(3)\n",
    "data_predict[\"diff_minute_4\"] = data_predict[\"minute\"].diff(4)\n",
    "\n",
    "\n",
    "data_predict.info()"
   ]
  },
  {
   "cell_type": "code",
   "execution_count": 14,
   "id": "a13c9845-12fa-4d2f-a767-18babe6eb891",
   "metadata": {
    "tags": []
   },
   "outputs": [],
   "source": [
    "lst_column_for_predict = list(data.drop(columns=[\"user_id\"]).columns)"
   ]
  },
  {
   "cell_type": "code",
   "execution_count": 15,
   "id": "14f8ae21-1c39-4849-ae6a-72581718d999",
   "metadata": {
    "tags": []
   },
   "outputs": [
    {
     "name": "stdout",
     "output_type": "stream",
     "text": [
      "<class 'pandas.core.frame.DataFrame'>\n",
      "Index: 7129 entries, 37514 to 44642\n",
      "Columns: 206 entries, timestamp to diff_minute_4\n",
      "dtypes: datetime64[ns](1), float64(160), int32(5), int64(1), int8(39)\n",
      "memory usage: 9.3 MB\n"
     ]
    }
   ],
   "source": [
    "data_predict = data_predict[[*lst_column_for_predict]]\n",
    "data_predict.info()\n",
    "data_predict.dropna(inplace=True)"
   ]
  },
  {
   "cell_type": "code",
   "execution_count": 16,
   "id": "0c6a6c9a-27f2-4ad3-b7cc-0bb30291a44e",
   "metadata": {
    "tags": []
   },
   "outputs": [],
   "source": [
    "data_predict[\"target\"] = pipe.predict(data_predict.drop(columns=[\"timestamp\"]))"
   ]
  },
  {
   "cell_type": "code",
   "execution_count": 17,
   "id": "31b009d3-56ac-47d6-9c2b-f1fcc0dca319",
   "metadata": {
    "tags": []
   },
   "outputs": [
    {
     "name": "stdout",
     "output_type": "stream",
     "text": [
      "<class 'pandas.core.frame.DataFrame'>\n",
      "Index: 7125 entries, 37518 to 44642\n",
      "Columns: 207 entries, timestamp to target\n",
      "dtypes: datetime64[ns](1), float64(160), int32(5), int64(2), int8(39)\n",
      "memory usage: 9.3 MB\n"
     ]
    }
   ],
   "source": [
    "data_predict.info()"
   ]
  },
  {
   "cell_type": "code",
   "execution_count": 18,
   "id": "00aaa00a-88ef-4ab4-af73-05df98ee12fd",
   "metadata": {
    "tags": []
   },
   "outputs": [],
   "source": [
    "data_out = data_predict[\"target\"]\n",
    "data_out.to_csv(\"../data/raw/sample_submission_4.sv\")"
   ]
  },
  {
   "cell_type": "code",
   "execution_count": null,
   "id": "4a88d7da-735e-4692-8084-81d33c0f599d",
   "metadata": {},
   "outputs": [],
   "source": []
  }
 ],
 "metadata": {
  "kernelspec": {
   "display_name": "Python 3 (ipykernel)",
   "language": "python",
   "name": "python3"
  },
  "language_info": {
   "codemirror_mode": {
    "name": "ipython",
    "version": 3
   },
   "file_extension": ".py",
   "mimetype": "text/x-python",
   "name": "python",
   "nbconvert_exporter": "python",
   "pygments_lexer": "ipython3",
   "version": "3.11.2"
  }
 },
 "nbformat": 4,
 "nbformat_minor": 5
}
