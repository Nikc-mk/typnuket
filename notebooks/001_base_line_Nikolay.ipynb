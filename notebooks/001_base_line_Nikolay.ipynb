{
 "cells": [
  {
   "cell_type": "code",
   "execution_count": 44,
   "id": "6aa42393-3edd-43ef-a419-d4a855d716ed",
   "metadata": {
    "tags": []
   },
   "outputs": [],
   "source": [
    "import pandas as pd\n",
    "import numpy as np\n",
    "import os\n",
    "import warnings\n",
    "warnings.filterwarnings('ignore')\n",
    "from sklearn.linear_model import LogisticRegression\n",
    "from sklearn.pipeline import Pipeline\n",
    "from sklearn.pipeline import make_pipeline\n",
    "from sklearn.preprocessing import StandardScaler\n",
    "from sklearn.model_selection import train_test_split\n",
    "from sklearn import preprocessing\n",
    "from sklearn.model_selection import learning_curve\n",
    "from sklearn.model_selection import validation_curve\n",
    "from sklearn.metrics import classification_report\n",
    "from time import time"
   ]
  },
  {
   "cell_type": "code",
   "execution_count": 45,
   "id": "468f429b-be67-43eb-9609-7a8a73fa72a4",
   "metadata": {
    "tags": []
   },
   "outputs": [],
   "source": [
    "SEED = 15"
   ]
  },
  {
   "cell_type": "code",
   "execution_count": 46,
   "id": "93772bcc-1880-4f2a-bbe2-08fa40a7a4d5",
   "metadata": {
    "tags": []
   },
   "outputs": [
    {
     "name": "stdout",
     "output_type": "stream",
     "text": [
      "<class 'pandas.core.frame.DataFrame'>\n",
      "Index: 37518 entries, 0 to 37517\n",
      "Data columns (total 3 columns):\n",
      " #   Column     Non-Null Count  Dtype         \n",
      "---  ------     --------------  -----         \n",
      " 0   user_id    37518 non-null  int64         \n",
      " 1   timestamp  37518 non-null  datetime64[ns]\n",
      " 2   gate_id    37518 non-null  int64         \n",
      "dtypes: datetime64[ns](1), int64(2)\n",
      "memory usage: 1.1 MB\n"
     ]
    }
   ],
   "source": [
    "# Прочитаем данные, переведем timestamp в формат datetime64, изначально он считывается как object\n",
    "data = pd.read_csv(\"../data/raw/train.csv\", index_col='row_id')\n",
    "data[\"timestamp\"] = data[\"timestamp\"].astype(\"datetime64[ns]\")\n",
    "data.info()"
   ]
  },
  {
   "cell_type": "code",
   "execution_count": 47,
   "id": "2ae0e67b-fcbe-4553-996f-fd60948dd080",
   "metadata": {
    "tags": []
   },
   "outputs": [
    {
     "data": {
      "text/html": [
       "<div>\n",
       "<style scoped>\n",
       "    .dataframe tbody tr th:only-of-type {\n",
       "        vertical-align: middle;\n",
       "    }\n",
       "\n",
       "    .dataframe tbody tr th {\n",
       "        vertical-align: top;\n",
       "    }\n",
       "\n",
       "    .dataframe thead th {\n",
       "        text-align: right;\n",
       "    }\n",
       "</style>\n",
       "<table border=\"1\" class=\"dataframe\">\n",
       "  <thead>\n",
       "    <tr style=\"text-align: right;\">\n",
       "      <th></th>\n",
       "      <th>user_id</th>\n",
       "      <th>timestamp</th>\n",
       "      <th>gate_id</th>\n",
       "      <th>hour</th>\n",
       "      <th>minute</th>\n",
       "      <th>day</th>\n",
       "      <th>dayofweek</th>\n",
       "      <th>is_weekend</th>\n",
       "    </tr>\n",
       "    <tr>\n",
       "      <th>row_id</th>\n",
       "      <th></th>\n",
       "      <th></th>\n",
       "      <th></th>\n",
       "      <th></th>\n",
       "      <th></th>\n",
       "      <th></th>\n",
       "      <th></th>\n",
       "      <th></th>\n",
       "    </tr>\n",
       "  </thead>\n",
       "  <tbody>\n",
       "    <tr>\n",
       "      <th>0</th>\n",
       "      <td>18</td>\n",
       "      <td>2022-07-29 09:08:54</td>\n",
       "      <td>7</td>\n",
       "      <td>9</td>\n",
       "      <td>8</td>\n",
       "      <td>29</td>\n",
       "      <td>4</td>\n",
       "      <td>0</td>\n",
       "    </tr>\n",
       "    <tr>\n",
       "      <th>1</th>\n",
       "      <td>18</td>\n",
       "      <td>2022-07-29 09:09:54</td>\n",
       "      <td>9</td>\n",
       "      <td>9</td>\n",
       "      <td>9</td>\n",
       "      <td>29</td>\n",
       "      <td>4</td>\n",
       "      <td>0</td>\n",
       "    </tr>\n",
       "    <tr>\n",
       "      <th>2</th>\n",
       "      <td>18</td>\n",
       "      <td>2022-07-29 09:09:54</td>\n",
       "      <td>9</td>\n",
       "      <td>9</td>\n",
       "      <td>9</td>\n",
       "      <td>29</td>\n",
       "      <td>4</td>\n",
       "      <td>0</td>\n",
       "    </tr>\n",
       "    <tr>\n",
       "      <th>3</th>\n",
       "      <td>18</td>\n",
       "      <td>2022-07-29 09:10:06</td>\n",
       "      <td>5</td>\n",
       "      <td>9</td>\n",
       "      <td>10</td>\n",
       "      <td>29</td>\n",
       "      <td>4</td>\n",
       "      <td>0</td>\n",
       "    </tr>\n",
       "    <tr>\n",
       "      <th>4</th>\n",
       "      <td>18</td>\n",
       "      <td>2022-07-29 09:10:08</td>\n",
       "      <td>5</td>\n",
       "      <td>9</td>\n",
       "      <td>10</td>\n",
       "      <td>29</td>\n",
       "      <td>4</td>\n",
       "      <td>0</td>\n",
       "    </tr>\n",
       "  </tbody>\n",
       "</table>\n",
       "</div>"
      ],
      "text/plain": [
       "        user_id           timestamp  gate_id  hour  minute  day  dayofweek   \n",
       "row_id                                                                       \n",
       "0            18 2022-07-29 09:08:54        7     9       8   29          4  \\\n",
       "1            18 2022-07-29 09:09:54        9     9       9   29          4   \n",
       "2            18 2022-07-29 09:09:54        9     9       9   29          4   \n",
       "3            18 2022-07-29 09:10:06        5     9      10   29          4   \n",
       "4            18 2022-07-29 09:10:08        5     9      10   29          4   \n",
       "\n",
       "        is_weekend  \n",
       "row_id              \n",
       "0                0  \n",
       "1                0  \n",
       "2                0  \n",
       "3                0  \n",
       "4                0  "
      ]
     },
     "execution_count": 47,
     "metadata": {},
     "output_type": "execute_result"
    }
   ],
   "source": [
    "# создадим фичи для логистической регрессии на основе timestamp\n",
    "# часы\n",
    "data['hour'] = data['timestamp'].dt.hour\n",
    "# минуты\n",
    "data['minute'] = data['timestamp'].dt.minute\n",
    "# число\n",
    "data['day'] = data['timestamp'].dt.day\n",
    "# день недели\n",
    "data['dayofweek'] = data['timestamp'].dt.dayofweek\n",
    "# если выходной то 1, будни 0\n",
    "data[\"is_weekend\"] = data['dayofweek'] > 4\n",
    "data[\"is_weekend\"] = data['is_weekend'].apply(int)\n",
    "data.head(5)"
   ]
  },
  {
   "cell_type": "code",
   "execution_count": 48,
   "id": "9f38d772-39e3-4562-a92f-93b5cee958d0",
   "metadata": {
    "tags": []
   },
   "outputs": [
    {
     "name": "stdout",
     "output_type": "stream",
     "text": [
      "<class 'pandas.core.frame.DataFrame'>\n",
      "Index: 37518 entries, 0 to 37517\n",
      "Data columns (total 30 columns):\n",
      " #   Column       Non-Null Count  Dtype         \n",
      "---  ------       --------------  -----         \n",
      " 0   user_id      37518 non-null  int64         \n",
      " 1   timestamp    37518 non-null  datetime64[ns]\n",
      " 2   hour         37518 non-null  int32         \n",
      " 3   minute       37518 non-null  int32         \n",
      " 4   day          37518 non-null  int32         \n",
      " 5   is_weekend   37518 non-null  int64         \n",
      " 6   dayofweek_0  37518 non-null  bool          \n",
      " 7   dayofweek_1  37518 non-null  bool          \n",
      " 8   dayofweek_2  37518 non-null  bool          \n",
      " 9   dayofweek_3  37518 non-null  bool          \n",
      " 10  dayofweek_4  37518 non-null  bool          \n",
      " 11  dayofweek_5  37518 non-null  bool          \n",
      " 12  dayofweek_6  37518 non-null  bool          \n",
      " 13  gate_id_-1   37518 non-null  bool          \n",
      " 14  gate_id_0    37518 non-null  bool          \n",
      " 15  gate_id_1    37518 non-null  bool          \n",
      " 16  gate_id_3    37518 non-null  bool          \n",
      " 17  gate_id_4    37518 non-null  bool          \n",
      " 18  gate_id_5    37518 non-null  bool          \n",
      " 19  gate_id_6    37518 non-null  bool          \n",
      " 20  gate_id_7    37518 non-null  bool          \n",
      " 21  gate_id_8    37518 non-null  bool          \n",
      " 22  gate_id_9    37518 non-null  bool          \n",
      " 23  gate_id_10   37518 non-null  bool          \n",
      " 24  gate_id_11   37518 non-null  bool          \n",
      " 25  gate_id_12   37518 non-null  bool          \n",
      " 26  gate_id_13   37518 non-null  bool          \n",
      " 27  gate_id_14   37518 non-null  bool          \n",
      " 28  gate_id_15   37518 non-null  bool          \n",
      " 29  gate_id_16   37518 non-null  bool          \n",
      "dtypes: bool(24), datetime64[ns](1), int32(3), int64(2)\n",
      "memory usage: 2.4 MB\n"
     ]
    }
   ],
   "source": [
    "data = pd.get_dummies(data, columns=[\"dayofweek\", \"gate_id\"])\n",
    "data.info()"
   ]
  },
  {
   "cell_type": "code",
   "execution_count": 49,
   "id": "8f2f3a61-e029-4d4f-8d4c-6919d14ee033",
   "metadata": {
    "tags": []
   },
   "outputs": [
    {
     "name": "stdout",
     "output_type": "stream",
     "text": [
      "0.1187633262260128\n",
      "              precision    recall  f1-score   support\n",
      "\n",
      "           0       0.00      0.00      0.00       324\n",
      "           1       0.14      0.12      0.13       337\n",
      "           2       0.00      0.00      0.00         7\n",
      "           3       0.16      0.06      0.09       256\n",
      "           4       0.00      0.00      0.00         1\n",
      "           5       0.00      0.00      0.00         5\n",
      "           6       0.16      0.04      0.06       516\n",
      "           7       0.00      0.00      0.00        11\n",
      "           8       0.00      0.00      0.00         5\n",
      "           9       0.00      0.00      0.00       242\n",
      "          10       0.00      0.00      0.00         5\n",
      "          11       0.04      0.00      0.01       309\n",
      "          12       0.11      0.21      0.14       533\n",
      "          14       0.10      0.10      0.10       175\n",
      "          15       0.09      0.36      0.14       421\n",
      "          17       0.00      0.00      0.00       163\n",
      "          18       0.37      0.22      0.27       399\n",
      "          19       0.19      0.17      0.18       402\n",
      "          20       0.00      0.00      0.00        25\n",
      "          21       0.00      0.00      0.00         2\n",
      "          22       0.00      0.00      0.00        30\n",
      "          23       0.00      0.00      0.00        64\n",
      "          24       0.25      0.06      0.10        96\n",
      "          25       0.50      0.02      0.03        58\n",
      "          26       0.18      0.04      0.06        81\n",
      "          27       0.21      0.36      0.26       156\n",
      "          28       0.00      0.00      0.00        15\n",
      "          29       0.12      0.01      0.02       259\n",
      "          30       0.00      0.00      0.00         3\n",
      "          31       0.00      0.00      0.00        43\n",
      "          32       0.07      0.06      0.07       267\n",
      "          33       0.18      0.05      0.07       341\n",
      "          34       0.11      0.01      0.03        67\n",
      "          35       0.00      0.00      0.00       153\n",
      "          36       0.00      0.00      0.00         6\n",
      "          37       0.10      0.27      0.15       585\n",
      "          38       0.00      0.00      0.00         3\n",
      "          39       0.07      0.01      0.02       278\n",
      "          40       0.00      0.00      0.00        55\n",
      "          41       0.00      0.00      0.00        37\n",
      "          42       0.00      0.00      0.00        88\n",
      "          43       0.00      0.00      0.00        30\n",
      "          44       0.00      0.00      0.00         2\n",
      "          45       0.00      0.00      0.00        18\n",
      "          46       0.20      0.02      0.04       121\n",
      "          47       0.07      0.01      0.02       339\n",
      "          48       0.00      0.00      0.00       184\n",
      "          49       0.23      0.14      0.17       313\n",
      "          50       0.00      0.00      0.00       246\n",
      "          53       0.05      0.01      0.01       320\n",
      "          54       0.00      0.00      0.00       250\n",
      "          55       0.11      0.49      0.17       571\n",
      "          56       0.33      0.03      0.05        34\n",
      "          57       0.00      0.00      0.00       129\n",
      "\n",
      "    accuracy                           0.12      9380\n",
      "   macro avg       0.08      0.05      0.04      9380\n",
      "weighted avg       0.11      0.12      0.09      9380\n",
      "\n"
     ]
    }
   ],
   "source": [
    "X_train, X_test, y_train, y_test = train_test_split(data.drop(columns=[\"user_id\", \"timestamp\"]), data[\"user_id\"], random_state=SEED)\n",
    "pipe = make_pipeline(StandardScaler(), LogisticRegression(n_jobs=-2\n",
    "                                                         , solver='saga'))\n",
    "pipe.fit(X_train, y_train)\n",
    "Pipeline(steps=[('standardscaler', StandardScaler()),\n",
    "                ('logisticregression', LogisticRegression())])\n",
    "print(pipe.score(X_test, y_test))\n",
    "print(classification_report(y_test, pipe.predict(X_test)))"
   ]
  },
  {
   "cell_type": "code",
   "execution_count": 51,
   "id": "5348e9ab-896c-4cf7-86fc-a8889286ca7f",
   "metadata": {
    "tags": []
   },
   "outputs": [
    {
     "data": {
      "text/html": [
       "<div>\n",
       "<style scoped>\n",
       "    .dataframe tbody tr th:only-of-type {\n",
       "        vertical-align: middle;\n",
       "    }\n",
       "\n",
       "    .dataframe tbody tr th {\n",
       "        vertical-align: top;\n",
       "    }\n",
       "\n",
       "    .dataframe thead th {\n",
       "        text-align: right;\n",
       "    }\n",
       "</style>\n",
       "<table border=\"1\" class=\"dataframe\">\n",
       "  <thead>\n",
       "    <tr style=\"text-align: right;\">\n",
       "      <th></th>\n",
       "      <th>timestamp</th>\n",
       "      <th>gate_id</th>\n",
       "    </tr>\n",
       "    <tr>\n",
       "      <th>row_id</th>\n",
       "      <th></th>\n",
       "      <th></th>\n",
       "    </tr>\n",
       "  </thead>\n",
       "  <tbody>\n",
       "    <tr>\n",
       "      <th>37518</th>\n",
       "      <td>2023-01-03 08:21:00</td>\n",
       "      <td>9</td>\n",
       "    </tr>\n",
       "    <tr>\n",
       "      <th>37519</th>\n",
       "      <td>2023-01-03 08:21:00</td>\n",
       "      <td>9</td>\n",
       "    </tr>\n",
       "    <tr>\n",
       "      <th>37520</th>\n",
       "      <td>2023-01-03 08:21:18</td>\n",
       "      <td>5</td>\n",
       "    </tr>\n",
       "    <tr>\n",
       "      <th>37521</th>\n",
       "      <td>2023-01-03 08:21:19</td>\n",
       "      <td>5</td>\n",
       "    </tr>\n",
       "    <tr>\n",
       "      <th>37522</th>\n",
       "      <td>2023-01-03 08:21:39</td>\n",
       "      <td>10</td>\n",
       "    </tr>\n",
       "  </tbody>\n",
       "</table>\n",
       "</div>"
      ],
      "text/plain": [
       "                 timestamp  gate_id\n",
       "row_id                             \n",
       "37518  2023-01-03 08:21:00        9\n",
       "37519  2023-01-03 08:21:00        9\n",
       "37520  2023-01-03 08:21:18        5\n",
       "37521  2023-01-03 08:21:19        5\n",
       "37522  2023-01-03 08:21:39       10"
      ]
     },
     "execution_count": 51,
     "metadata": {},
     "output_type": "execute_result"
    }
   ],
   "source": [
    "data_predict = pd.read_csv(\"../data/raw/test.csv\", index_col='row_id')\n",
    "data_predict[\"timestamp\"] = data_predict[\"timestamp\"].astype(\"datetime64[ns]\")\n",
    "data_predict.head()"
   ]
  },
  {
   "cell_type": "code",
   "execution_count": 52,
   "id": "8756111f-3d7c-4c1b-b303-d06e38dc96fa",
   "metadata": {
    "tags": []
   },
   "outputs": [
    {
     "name": "stdout",
     "output_type": "stream",
     "text": [
      "<class 'pandas.core.frame.DataFrame'>\n",
      "Index: 7125 entries, 37518 to 44642\n",
      "Data columns (total 28 columns):\n",
      " #   Column       Non-Null Count  Dtype         \n",
      "---  ------       --------------  -----         \n",
      " 0   timestamp    7125 non-null   datetime64[ns]\n",
      " 1   hour         7125 non-null   int32         \n",
      " 2   minute       7125 non-null   int32         \n",
      " 3   day          7125 non-null   int32         \n",
      " 4   is_weekend   7125 non-null   int64         \n",
      " 5   dayofweek_0  7125 non-null   bool          \n",
      " 6   dayofweek_1  7125 non-null   bool          \n",
      " 7   dayofweek_2  7125 non-null   bool          \n",
      " 8   dayofweek_3  7125 non-null   bool          \n",
      " 9   dayofweek_4  7125 non-null   bool          \n",
      " 10  dayofweek_5  7125 non-null   bool          \n",
      " 11  dayofweek_6  7125 non-null   bool          \n",
      " 12  gate_id_-1   7125 non-null   bool          \n",
      " 13  gate_id_1    7125 non-null   bool          \n",
      " 14  gate_id_2    7125 non-null   bool          \n",
      " 15  gate_id_3    7125 non-null   bool          \n",
      " 16  gate_id_4    7125 non-null   bool          \n",
      " 17  gate_id_5    7125 non-null   bool          \n",
      " 18  gate_id_6    7125 non-null   bool          \n",
      " 19  gate_id_7    7125 non-null   bool          \n",
      " 20  gate_id_8    7125 non-null   bool          \n",
      " 21  gate_id_9    7125 non-null   bool          \n",
      " 22  gate_id_10   7125 non-null   bool          \n",
      " 23  gate_id_11   7125 non-null   bool          \n",
      " 24  gate_id_12   7125 non-null   bool          \n",
      " 25  gate_id_13   7125 non-null   bool          \n",
      " 26  gate_id_14   7125 non-null   bool          \n",
      " 27  gate_id_15   7125 non-null   bool          \n",
      "dtypes: bool(23), datetime64[ns](1), int32(3), int64(1)\n",
      "memory usage: 410.5 KB\n"
     ]
    }
   ],
   "source": [
    "data_predict['hour'] = data_predict['timestamp'].dt.hour\n",
    "# минуты\n",
    "data_predict['minute'] = data_predict['timestamp'].dt.minute\n",
    "# число\n",
    "data_predict['day'] = data_predict['timestamp'].dt.day\n",
    "# день недели\n",
    "data_predict['dayofweek'] = data_predict['timestamp'].dt.dayofweek\n",
    "# если выходной то 1, будни 0\n",
    "data_predict[\"is_weekend\"] = data_predict['dayofweek'] > 4\n",
    "data_predict[\"is_weekend\"] = data_predict['is_weekend'].apply(int)\n",
    "\n",
    "data_predict = pd.get_dummies(data_predict, columns=[\"dayofweek\", \"gate_id\"])\n",
    "data_predict.info()"
   ]
  },
  {
   "cell_type": "code",
   "execution_count": 58,
   "id": "a13c9845-12fa-4d2f-a767-18babe6eb891",
   "metadata": {
    "tags": []
   },
   "outputs": [
    {
     "name": "stdout",
     "output_type": "stream",
     "text": [
      "Index(['user_id', 'timestamp', 'hour', 'minute', 'day', 'is_weekend',\n",
      "       'dayofweek_0', 'dayofweek_1', 'dayofweek_2', 'dayofweek_3',\n",
      "       'dayofweek_4', 'dayofweek_5', 'dayofweek_6', 'gate_id_-1', 'gate_id_0',\n",
      "       'gate_id_1', 'gate_id_3', 'gate_id_4', 'gate_id_5', 'gate_id_6',\n",
      "       'gate_id_7', 'gate_id_8', 'gate_id_9', 'gate_id_10', 'gate_id_11',\n",
      "       'gate_id_12', 'gate_id_13', 'gate_id_14', 'gate_id_15', 'gate_id_16'],\n",
      "      dtype='object')\n"
     ]
    }
   ],
   "source": [
    "print(data.columns)"
   ]
  },
  {
   "cell_type": "code",
   "execution_count": 56,
   "id": "26bec420-e289-4a7d-af15-4e1b0da1988a",
   "metadata": {
    "tags": []
   },
   "outputs": [
    {
     "name": "stdout",
     "output_type": "stream",
     "text": [
      "<class 'pandas.core.frame.DataFrame'>\n",
      "Index: 7125 entries, 37518 to 44642\n",
      "Data columns (total 30 columns):\n",
      " #   Column       Non-Null Count  Dtype         \n",
      "---  ------       --------------  -----         \n",
      " 0   timestamp    7125 non-null   datetime64[ns]\n",
      " 1   hour         7125 non-null   int32         \n",
      " 2   minute       7125 non-null   int32         \n",
      " 3   day          7125 non-null   int32         \n",
      " 4   is_weekend   7125 non-null   int64         \n",
      " 5   dayofweek_0  7125 non-null   bool          \n",
      " 6   dayofweek_1  7125 non-null   bool          \n",
      " 7   dayofweek_2  7125 non-null   bool          \n",
      " 8   dayofweek_3  7125 non-null   bool          \n",
      " 9   dayofweek_4  7125 non-null   bool          \n",
      " 10  dayofweek_5  7125 non-null   bool          \n",
      " 11  dayofweek_6  7125 non-null   bool          \n",
      " 12  gate_id_-1   7125 non-null   bool          \n",
      " 13  gate_id_1    7125 non-null   bool          \n",
      " 14  gate_id_2    7125 non-null   bool          \n",
      " 15  gate_id_3    7125 non-null   bool          \n",
      " 16  gate_id_4    7125 non-null   bool          \n",
      " 17  gate_id_5    7125 non-null   bool          \n",
      " 18  gate_id_6    7125 non-null   bool          \n",
      " 19  gate_id_7    7125 non-null   bool          \n",
      " 20  gate_id_8    7125 non-null   bool          \n",
      " 21  gate_id_9    7125 non-null   bool          \n",
      " 22  gate_id_10   7125 non-null   bool          \n",
      " 23  gate_id_11   7125 non-null   bool          \n",
      " 24  gate_id_12   7125 non-null   bool          \n",
      " 25  gate_id_13   7125 non-null   bool          \n",
      " 26  gate_id_14   7125 non-null   bool          \n",
      " 27  gate_id_15   7125 non-null   bool          \n",
      " 28  gate_id_0    7125 non-null   int64         \n",
      " 29  gate_id_16   7125 non-null   int64         \n",
      "dtypes: bool(23), datetime64[ns](1), int32(3), int64(3)\n",
      "memory usage: 521.9 KB\n"
     ]
    }
   ],
   "source": [
    "# gate_id = 0 в тестовых данных нет, можно и в трейне удалить\n",
    "data_predict['gate_id_0'] = 0\n",
    "data_predict['gate_id_16'] = 0\n",
    "data_predict.info()"
   ]
  },
  {
   "cell_type": "code",
   "execution_count": 61,
   "id": "14f8ae21-1c39-4849-ae6a-72581718d999",
   "metadata": {
    "tags": []
   },
   "outputs": [
    {
     "name": "stdout",
     "output_type": "stream",
     "text": [
      "<class 'pandas.core.frame.DataFrame'>\n",
      "Index: 7125 entries, 37518 to 44642\n",
      "Data columns (total 29 columns):\n",
      " #   Column       Non-Null Count  Dtype         \n",
      "---  ------       --------------  -----         \n",
      " 0   timestamp    7125 non-null   datetime64[ns]\n",
      " 1   hour         7125 non-null   int32         \n",
      " 2   minute       7125 non-null   int32         \n",
      " 3   day          7125 non-null   int32         \n",
      " 4   is_weekend   7125 non-null   int64         \n",
      " 5   dayofweek_0  7125 non-null   bool          \n",
      " 6   dayofweek_1  7125 non-null   bool          \n",
      " 7   dayofweek_2  7125 non-null   bool          \n",
      " 8   dayofweek_3  7125 non-null   bool          \n",
      " 9   dayofweek_4  7125 non-null   bool          \n",
      " 10  dayofweek_5  7125 non-null   bool          \n",
      " 11  dayofweek_6  7125 non-null   bool          \n",
      " 12  gate_id_-1   7125 non-null   bool          \n",
      " 13  gate_id_0    7125 non-null   int64         \n",
      " 14  gate_id_1    7125 non-null   bool          \n",
      " 15  gate_id_3    7125 non-null   bool          \n",
      " 16  gate_id_4    7125 non-null   bool          \n",
      " 17  gate_id_5    7125 non-null   bool          \n",
      " 18  gate_id_6    7125 non-null   bool          \n",
      " 19  gate_id_7    7125 non-null   bool          \n",
      " 20  gate_id_8    7125 non-null   bool          \n",
      " 21  gate_id_9    7125 non-null   bool          \n",
      " 22  gate_id_10   7125 non-null   bool          \n",
      " 23  gate_id_11   7125 non-null   bool          \n",
      " 24  gate_id_12   7125 non-null   bool          \n",
      " 25  gate_id_13   7125 non-null   bool          \n",
      " 26  gate_id_14   7125 non-null   bool          \n",
      " 27  gate_id_15   7125 non-null   bool          \n",
      " 28  gate_id_16   7125 non-null   int64         \n",
      "dtypes: bool(22), datetime64[ns](1), int32(3), int64(3)\n",
      "memory usage: 514.9 KB\n"
     ]
    }
   ],
   "source": [
    "data_predict = data_predict[['timestamp', 'hour', 'minute', 'day', 'is_weekend',\n",
    "       'dayofweek_0', 'dayofweek_1', 'dayofweek_2', 'dayofweek_3',\n",
    "       'dayofweek_4', 'dayofweek_5', 'dayofweek_6', 'gate_id_-1', 'gate_id_0',\n",
    "       'gate_id_1', 'gate_id_3', 'gate_id_4', 'gate_id_5', 'gate_id_6',\n",
    "       'gate_id_7', 'gate_id_8', 'gate_id_9', 'gate_id_10', 'gate_id_11',\n",
    "       'gate_id_12', 'gate_id_13', 'gate_id_14', 'gate_id_15', 'gate_id_16']]\n",
    "data_predict.info()"
   ]
  },
  {
   "cell_type": "code",
   "execution_count": 73,
   "id": "0c6a6c9a-27f2-4ad3-b7cc-0bb30291a44e",
   "metadata": {
    "tags": []
   },
   "outputs": [],
   "source": [
    "data_predict[\"target\"] = pipe.predict(data_predict.drop(columns=[\"timestamp\"]))"
   ]
  },
  {
   "cell_type": "code",
   "execution_count": 74,
   "id": "31b009d3-56ac-47d6-9c2b-f1fcc0dca319",
   "metadata": {
    "tags": []
   },
   "outputs": [
    {
     "name": "stdout",
     "output_type": "stream",
     "text": [
      "<class 'pandas.core.frame.DataFrame'>\n",
      "Index: 7125 entries, 37518 to 44642\n",
      "Data columns (total 30 columns):\n",
      " #   Column       Non-Null Count  Dtype         \n",
      "---  ------       --------------  -----         \n",
      " 0   timestamp    7125 non-null   datetime64[ns]\n",
      " 1   hour         7125 non-null   int32         \n",
      " 2   minute       7125 non-null   int32         \n",
      " 3   day          7125 non-null   int32         \n",
      " 4   is_weekend   7125 non-null   int64         \n",
      " 5   dayofweek_0  7125 non-null   bool          \n",
      " 6   dayofweek_1  7125 non-null   bool          \n",
      " 7   dayofweek_2  7125 non-null   bool          \n",
      " 8   dayofweek_3  7125 non-null   bool          \n",
      " 9   dayofweek_4  7125 non-null   bool          \n",
      " 10  dayofweek_5  7125 non-null   bool          \n",
      " 11  dayofweek_6  7125 non-null   bool          \n",
      " 12  gate_id_-1   7125 non-null   bool          \n",
      " 13  gate_id_0    7125 non-null   int64         \n",
      " 14  gate_id_1    7125 non-null   bool          \n",
      " 15  gate_id_3    7125 non-null   bool          \n",
      " 16  gate_id_4    7125 non-null   bool          \n",
      " 17  gate_id_5    7125 non-null   bool          \n",
      " 18  gate_id_6    7125 non-null   bool          \n",
      " 19  gate_id_7    7125 non-null   bool          \n",
      " 20  gate_id_8    7125 non-null   bool          \n",
      " 21  gate_id_9    7125 non-null   bool          \n",
      " 22  gate_id_10   7125 non-null   bool          \n",
      " 23  gate_id_11   7125 non-null   bool          \n",
      " 24  gate_id_12   7125 non-null   bool          \n",
      " 25  gate_id_13   7125 non-null   bool          \n",
      " 26  gate_id_14   7125 non-null   bool          \n",
      " 27  gate_id_15   7125 non-null   bool          \n",
      " 28  gate_id_16   7125 non-null   int64         \n",
      " 29  target       7125 non-null   int64         \n",
      "dtypes: bool(22), datetime64[ns](1), int32(3), int64(4)\n",
      "memory usage: 828.6 KB\n"
     ]
    }
   ],
   "source": [
    "data_predict.info()"
   ]
  },
  {
   "cell_type": "code",
   "execution_count": 79,
   "id": "00aaa00a-88ef-4ab4-af73-05df98ee12fd",
   "metadata": {
    "tags": []
   },
   "outputs": [],
   "source": [
    "data_out = data_predict[\"target\"]\n",
    "data_out.to_csv(\"../data/raw/sample_submission_1.sv\")"
   ]
  },
  {
   "cell_type": "code",
   "execution_count": null,
   "id": "4a88d7da-735e-4692-8084-81d33c0f599d",
   "metadata": {},
   "outputs": [],
   "source": []
  }
 ],
 "metadata": {
  "kernelspec": {
   "display_name": "Python 3 (ipykernel)",
   "language": "python",
   "name": "python3"
  },
  "language_info": {
   "codemirror_mode": {
    "name": "ipython",
    "version": 3
   },
   "file_extension": ".py",
   "mimetype": "text/x-python",
   "name": "python",
   "nbconvert_exporter": "python",
   "pygments_lexer": "ipython3",
   "version": "3.11.2"
  }
 },
 "nbformat": 4,
 "nbformat_minor": 5
}
